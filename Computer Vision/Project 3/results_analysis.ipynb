{
 "cells": [
  {
   "cell_type": "code",
   "execution_count": 19,
   "metadata": {},
   "outputs": [],
   "source": [
    "import numpy as np\n",
    "import pandas as pd\n",
    "\n",
    "import matplotlib.pyplot as plt\n",
    "from pylab import rcParams\n",
    "plt.rc('figure', figsize=(15, 8), titlesize=16)\n",
    "plt.rc('axes', facecolor='#E6E6E6', edgecolor='none',\n",
    "       axisbelow=True, grid=True)\n",
    "plt.rc('grid', color='w', linestyle='solid')\n",
    "plt.rc('xtick', direction='out', color='gray')\n",
    "plt.rc('ytick', direction='out', color='gray')\n",
    "plt.rc('patch', edgecolor='#E6E6E6')\n",
    "plt.rc('lines', linewidth=2)"
   ]
  },
  {
   "cell_type": "code",
   "execution_count": 2,
   "metadata": {},
   "outputs": [],
   "source": [
    "df = pd.read_csv('results_knn.csv', index_col='Unnamed: 0')"
   ]
  },
  {
   "cell_type": "code",
   "execution_count": 3,
   "metadata": {
    "scrolled": false
   },
   "outputs": [
    {
     "data": {
      "text/html": [
       "<div>\n",
       "<style scoped>\n",
       "    .dataframe tbody tr th:only-of-type {\n",
       "        vertical-align: middle;\n",
       "    }\n",
       "\n",
       "    .dataframe tbody tr th {\n",
       "        vertical-align: top;\n",
       "    }\n",
       "\n",
       "    .dataframe thead th {\n",
       "        text-align: right;\n",
       "    }\n",
       "</style>\n",
       "<table border=\"1\" class=\"dataframe\">\n",
       "  <thead>\n",
       "    <tr style=\"text-align: right;\">\n",
       "      <th></th>\n",
       "      <th>image_path</th>\n",
       "      <th>class</th>\n",
       "      <th>predicted_class</th>\n",
       "      <th>knn neighbors</th>\n",
       "      <th>vocabulary_words</th>\n",
       "      <th>normalization</th>\n",
       "    </tr>\n",
       "  </thead>\n",
       "  <tbody>\n",
       "    <tr>\n",
       "      <th>0</th>\n",
       "      <td>imagedb_test\\fighter_jet/069_0090.jpg</td>\n",
       "      <td>0</td>\n",
       "      <td>2.0</td>\n",
       "      <td>2</td>\n",
       "      <td>100</td>\n",
       "      <td>False</td>\n",
       "    </tr>\n",
       "    <tr>\n",
       "      <th>1</th>\n",
       "      <td>imagedb_test\\fighter_jet/069_0091.jpg</td>\n",
       "      <td>0</td>\n",
       "      <td>4.0</td>\n",
       "      <td>2</td>\n",
       "      <td>100</td>\n",
       "      <td>False</td>\n",
       "    </tr>\n",
       "    <tr>\n",
       "      <th>2</th>\n",
       "      <td>imagedb_test\\fighter_jet/069_0092.jpg</td>\n",
       "      <td>0</td>\n",
       "      <td>0.0</td>\n",
       "      <td>2</td>\n",
       "      <td>100</td>\n",
       "      <td>False</td>\n",
       "    </tr>\n",
       "    <tr>\n",
       "      <th>3</th>\n",
       "      <td>imagedb_test\\fighter_jet/069_0093.jpg</td>\n",
       "      <td>0</td>\n",
       "      <td>0.0</td>\n",
       "      <td>2</td>\n",
       "      <td>100</td>\n",
       "      <td>False</td>\n",
       "    </tr>\n",
       "    <tr>\n",
       "      <th>4</th>\n",
       "      <td>imagedb_test\\fighter_jet/069_0094.jpg</td>\n",
       "      <td>0</td>\n",
       "      <td>0.0</td>\n",
       "      <td>2</td>\n",
       "      <td>100</td>\n",
       "      <td>False</td>\n",
       "    </tr>\n",
       "  </tbody>\n",
       "</table>\n",
       "</div>"
      ],
      "text/plain": [
       "                              image_path  class  predicted_class  \\\n",
       "0  imagedb_test\\fighter_jet/069_0090.jpg      0              2.0   \n",
       "1  imagedb_test\\fighter_jet/069_0091.jpg      0              4.0   \n",
       "2  imagedb_test\\fighter_jet/069_0092.jpg      0              0.0   \n",
       "3  imagedb_test\\fighter_jet/069_0093.jpg      0              0.0   \n",
       "4  imagedb_test\\fighter_jet/069_0094.jpg      0              0.0   \n",
       "\n",
       "   knn neighbors  vocabulary_words  normalization  \n",
       "0              2               100          False  \n",
       "1              2               100          False  \n",
       "2              2               100          False  \n",
       "3              2               100          False  \n",
       "4              2               100          False  "
      ]
     },
     "execution_count": 3,
     "metadata": {},
     "output_type": "execute_result"
    }
   ],
   "source": [
    "df.head()"
   ]
  },
  {
   "cell_type": "code",
   "execution_count": 4,
   "metadata": {},
   "outputs": [],
   "source": [
    "for i in range(df.shape[0]):\n",
    "    if  df.loc[i, 'predicted_class'] == df.loc[i, 'class']:\n",
    "        df.loc[i, 'prediction_correct'] = 1\n",
    "    else:\n",
    "        df.loc[i, 'prediction_correct'] = 0"
   ]
  },
  {
   "cell_type": "code",
   "execution_count": 5,
   "metadata": {},
   "outputs": [],
   "source": [
    "df['num_images'] = 1"
   ]
  },
  {
   "cell_type": "code",
   "execution_count": 6,
   "metadata": {},
   "outputs": [],
   "source": [
    "grouped = df.groupby(['class', 'knn neighbors', 'vocabulary_words', 'normalization']).sum().drop(columns=['predicted_class'])"
   ]
  },
  {
   "cell_type": "code",
   "execution_count": 7,
   "metadata": {},
   "outputs": [],
   "source": [
    "classes = grouped.groupby('class').sum()\n",
    "\n",
    "classes_folders = ['fighter_jet', 'motorbike', 'school_bus', 'touring_bike', 'airplane', 'car_side']\n",
    "\n",
    "ind = classes.index.tolist()\n",
    "for i in range(len(ind)):\n",
    "    ind[i] = classes_folders[i]\n",
    "\n",
    "classes.index = ind\n",
    "    \n",
    "classes.loc['average', 'prediction_correct'] = classes['prediction_correct'].sum()\n",
    "classes.loc['average', 'num_images'] = classes['num_images'].sum()\n",
    "classes['accuracy'] = classes['prediction_correct'] / classes['num_images']"
   ]
  },
  {
   "cell_type": "code",
   "execution_count": 8,
   "metadata": {},
   "outputs": [
    {
     "data": {
      "text/html": [
       "<div>\n",
       "<style scoped>\n",
       "    .dataframe tbody tr th:only-of-type {\n",
       "        vertical-align: middle;\n",
       "    }\n",
       "\n",
       "    .dataframe tbody tr th {\n",
       "        vertical-align: top;\n",
       "    }\n",
       "\n",
       "    .dataframe thead th {\n",
       "        text-align: right;\n",
       "    }\n",
       "</style>\n",
       "<table border=\"1\" class=\"dataframe\">\n",
       "  <thead>\n",
       "    <tr style=\"text-align: right;\">\n",
       "      <th></th>\n",
       "      <th>prediction_correct</th>\n",
       "      <th>num_images</th>\n",
       "      <th>accuracy</th>\n",
       "    </tr>\n",
       "  </thead>\n",
       "  <tbody>\n",
       "    <tr>\n",
       "      <th>fighter_jet</th>\n",
       "      <td>355.0</td>\n",
       "      <td>1120.0</td>\n",
       "      <td>0.316964</td>\n",
       "    </tr>\n",
       "    <tr>\n",
       "      <th>motorbike</th>\n",
       "      <td>403.0</td>\n",
       "      <td>1120.0</td>\n",
       "      <td>0.359821</td>\n",
       "    </tr>\n",
       "    <tr>\n",
       "      <th>school_bus</th>\n",
       "      <td>620.0</td>\n",
       "      <td>1008.0</td>\n",
       "      <td>0.615079</td>\n",
       "    </tr>\n",
       "    <tr>\n",
       "      <th>touring_bike</th>\n",
       "      <td>1030.0</td>\n",
       "      <td>1232.0</td>\n",
       "      <td>0.836039</td>\n",
       "    </tr>\n",
       "    <tr>\n",
       "      <th>airplane</th>\n",
       "      <td>975.0</td>\n",
       "      <td>1232.0</td>\n",
       "      <td>0.791396</td>\n",
       "    </tr>\n",
       "    <tr>\n",
       "      <th>car_side</th>\n",
       "      <td>498.0</td>\n",
       "      <td>1232.0</td>\n",
       "      <td>0.404221</td>\n",
       "    </tr>\n",
       "    <tr>\n",
       "      <th>total</th>\n",
       "      <td>3881.0</td>\n",
       "      <td>6944.0</td>\n",
       "      <td>0.558900</td>\n",
       "    </tr>\n",
       "  </tbody>\n",
       "</table>\n",
       "</div>"
      ],
      "text/plain": [
       "              prediction_correct  num_images  accuracy\n",
       "fighter_jet                355.0      1120.0  0.316964\n",
       "motorbike                  403.0      1120.0  0.359821\n",
       "school_bus                 620.0      1008.0  0.615079\n",
       "touring_bike              1030.0      1232.0  0.836039\n",
       "airplane                   975.0      1232.0  0.791396\n",
       "car_side                   498.0      1232.0  0.404221\n",
       "total                     3881.0      6944.0  0.558900"
      ]
     },
     "execution_count": 8,
     "metadata": {},
     "output_type": "execute_result"
    }
   ],
   "source": [
    "classes"
   ]
  },
  {
   "cell_type": "code",
   "execution_count": 22,
   "metadata": {},
   "outputs": [],
   "source": [
    "def plot_bar_x(labels, data, parameter, title):\n",
    "    # this is for plotting purpose\n",
    "    index = np.arange(len(labels))\n",
    "    plt.bar(index, data)\n",
    "    plt.xlabel(parameter, fontsize=20)\n",
    "    plt.ylabel('Accuracy', fontsize=20)\n",
    "    plt.xticks(index, labels, fontsize=10)\n",
    "    d = [str(round(d*100,2))+'%' for d in data]\n",
    "    # plt.yticks(data, d, fontsize=10, rotation=30)\n",
    "    plt.title(title, fontsize=20)\n",
    "    plt.show()"
   ]
  },
  {
   "cell_type": "code",
   "execution_count": 23,
   "metadata": {},
   "outputs": [
    {
     "data": {
      "image/png": "[encoded data removed]",
      "text/plain": [
       "<Figure size 1080x576 with 1 Axes>"
      ]
     },
     "metadata": {
      "needs_background": "dark"
     },
     "output_type": "display_data"
    }
   ],
   "source": [
    "plot_bar_x(classes.index, classes.accuracy.values, 'Class', 'Accuracy for each class')"
   ]
  },
  {
   "cell_type": "code",
   "execution_count": 24,
   "metadata": {},
   "outputs": [],
   "source": [
    "ks = grouped.groupby('knn neighbors').sum()\n",
    "    \n",
    "ks.loc['average', 'prediction_correct'] = ks['prediction_correct'].sum()\n",
    "ks.loc['average', 'num_images'] = ks['num_images'].sum()\n",
    "ks['accuracy'] = ks['prediction_correct'] / ks['num_images']"
   ]
  },
  {
   "cell_type": "code",
   "execution_count": 25,
   "metadata": {
    "scrolled": true
   },
   "outputs": [
    {
     "data": {
      "text/html": [
       "<div>\n",
       "<style scoped>\n",
       "    .dataframe tbody tr th:only-of-type {\n",
       "        vertical-align: middle;\n",
       "    }\n",
       "\n",
       "    .dataframe tbody tr th {\n",
       "        vertical-align: top;\n",
       "    }\n",
       "\n",
       "    .dataframe thead th {\n",
       "        text-align: right;\n",
       "    }\n",
       "</style>\n",
       "<table border=\"1\" class=\"dataframe\">\n",
       "  <thead>\n",
       "    <tr style=\"text-align: right;\">\n",
       "      <th></th>\n",
       "      <th>prediction_correct</th>\n",
       "      <th>num_images</th>\n",
       "      <th>accuracy</th>\n",
       "    </tr>\n",
       "    <tr>\n",
       "      <th>knn neighbors</th>\n",
       "      <th></th>\n",
       "      <th></th>\n",
       "      <th></th>\n",
       "    </tr>\n",
       "  </thead>\n",
       "  <tbody>\n",
       "    <tr>\n",
       "      <th>2</th>\n",
       "      <td>458.0</td>\n",
       "      <td>868.0</td>\n",
       "      <td>0.527650</td>\n",
       "    </tr>\n",
       "    <tr>\n",
       "      <th>3</th>\n",
       "      <td>494.0</td>\n",
       "      <td>868.0</td>\n",
       "      <td>0.569124</td>\n",
       "    </tr>\n",
       "    <tr>\n",
       "      <th>5</th>\n",
       "      <td>486.0</td>\n",
       "      <td>868.0</td>\n",
       "      <td>0.559908</td>\n",
       "    </tr>\n",
       "    <tr>\n",
       "      <th>7</th>\n",
       "      <td>490.0</td>\n",
       "      <td>868.0</td>\n",
       "      <td>0.564516</td>\n",
       "    </tr>\n",
       "    <tr>\n",
       "      <th>11</th>\n",
       "      <td>494.0</td>\n",
       "      <td>868.0</td>\n",
       "      <td>0.569124</td>\n",
       "    </tr>\n",
       "    <tr>\n",
       "      <th>17</th>\n",
       "      <td>480.0</td>\n",
       "      <td>868.0</td>\n",
       "      <td>0.552995</td>\n",
       "    </tr>\n",
       "    <tr>\n",
       "      <th>25</th>\n",
       "      <td>474.0</td>\n",
       "      <td>868.0</td>\n",
       "      <td>0.546083</td>\n",
       "    </tr>\n",
       "    <tr>\n",
       "      <th>61</th>\n",
       "      <td>505.0</td>\n",
       "      <td>868.0</td>\n",
       "      <td>0.581797</td>\n",
       "    </tr>\n",
       "    <tr>\n",
       "      <th>average</th>\n",
       "      <td>3881.0</td>\n",
       "      <td>6944.0</td>\n",
       "      <td>0.558900</td>\n",
       "    </tr>\n",
       "  </tbody>\n",
       "</table>\n",
       "</div>"
      ],
      "text/plain": [
       "               prediction_correct  num_images  accuracy\n",
       "knn neighbors                                          \n",
       "2                           458.0       868.0  0.527650\n",
       "3                           494.0       868.0  0.569124\n",
       "5                           486.0       868.0  0.559908\n",
       "7                           490.0       868.0  0.564516\n",
       "11                          494.0       868.0  0.569124\n",
       "17                          480.0       868.0  0.552995\n",
       "25                          474.0       868.0  0.546083\n",
       "61                          505.0       868.0  0.581797\n",
       "average                    3881.0      6944.0  0.558900"
      ]
     },
     "execution_count": 25,
     "metadata": {},
     "output_type": "execute_result"
    }
   ],
   "source": [
    "ks"
   ]
  },
  {
   "cell_type": "code",
   "execution_count": 27,
   "metadata": {
    "collapsed": true
   },
   "outputs": [
    {
     "data": {
      "image/png": "[encoded data removed]",
      "text/plain": [
       "<Figure size 1080x576 with 1 Axes>"
      ]
     },
     "metadata": {
      "needs_background": "dark"
     },
     "output_type": "display_data"
    }
   ],
   "source": [
    "plot_bar_x(ks.index, ks.accuracy.values, 'k', 'Accuracy for different values of k')"
   ]
  },
  {
   "cell_type": "code",
   "execution_count": 28,
   "metadata": {},
   "outputs": [],
   "source": [
    "norms = grouped.groupby('normalization').sum()\n",
    "\n",
    "norms['accuracy'] = norms['prediction_correct'] / norms['num_images']"
   ]
  },
  {
   "cell_type": "code",
   "execution_count": 29,
   "metadata": {
    "scrolled": true
   },
   "outputs": [
    {
     "data": {
      "text/html": [
       "<div>\n",
       "<style scoped>\n",
       "    .dataframe tbody tr th:only-of-type {\n",
       "        vertical-align: middle;\n",
       "    }\n",
       "\n",
       "    .dataframe tbody tr th {\n",
       "        vertical-align: top;\n",
       "    }\n",
       "\n",
       "    .dataframe thead th {\n",
       "        text-align: right;\n",
       "    }\n",
       "</style>\n",
       "<table border=\"1\" class=\"dataframe\">\n",
       "  <thead>\n",
       "    <tr style=\"text-align: right;\">\n",
       "      <th></th>\n",
       "      <th>prediction_correct</th>\n",
       "      <th>num_images</th>\n",
       "      <th>accuracy</th>\n",
       "    </tr>\n",
       "    <tr>\n",
       "      <th>normalization</th>\n",
       "      <th></th>\n",
       "      <th></th>\n",
       "      <th></th>\n",
       "    </tr>\n",
       "  </thead>\n",
       "  <tbody>\n",
       "    <tr>\n",
       "      <th>False</th>\n",
       "      <td>2081.0</td>\n",
       "      <td>3472</td>\n",
       "      <td>0.599366</td>\n",
       "    </tr>\n",
       "    <tr>\n",
       "      <th>True</th>\n",
       "      <td>1800.0</td>\n",
       "      <td>3472</td>\n",
       "      <td>0.518433</td>\n",
       "    </tr>\n",
       "  </tbody>\n",
       "</table>\n",
       "</div>"
      ],
      "text/plain": [
       "               prediction_correct  num_images  accuracy\n",
       "normalization                                          \n",
       "False                      2081.0        3472  0.599366\n",
       "True                       1800.0        3472  0.518433"
      ]
     },
     "execution_count": 29,
     "metadata": {},
     "output_type": "execute_result"
    }
   ],
   "source": [
    "norms"
   ]
  },
  {
   "cell_type": "code",
   "execution_count": 30,
   "metadata": {
    "collapsed": true
   },
   "outputs": [
    {
     "data": {
      "image/png": "[encoded data removed]",
      "text/plain": [
       "<Figure size 1080x576 with 1 Axes>"
      ]
     },
     "metadata": {
      "needs_background": "dark"
     },
     "output_type": "display_data"
    }
   ],
   "source": [
    "plot_bar_x(norms.index, norms.accuracy.values, 'Normalization', 'Accuracy with and without normalization')"
   ]
  },
  {
   "cell_type": "code",
   "execution_count": 34,
   "metadata": {},
   "outputs": [],
   "source": [
    "words = grouped.groupby('vocabulary_words').sum()\n",
    "\n",
    "words['accuracy'] = words['prediction_correct'] / words['num_images']"
   ]
  },
  {
   "cell_type": "code",
   "execution_count": 35,
   "metadata": {
    "scrolled": true
   },
   "outputs": [
    {
     "data": {
      "image/png": "[encoded data removed]",
      "text/plain": [
       "<Figure size 1080x576 with 1 Axes>"
      ]
     },
     "metadata": {
      "needs_background": "dark"
     },
     "output_type": "display_data"
    }
   ],
   "source": [
    "plot_bar_x(words.index, words.accuracy.values, 'Number of vocabulary words', 'Accuracy for different number of words in BoVW vocabulary')"
   ]
  },
  {
   "cell_type": "code",
   "execution_count": 18,
   "metadata": {},
   "outputs": [],
   "source": []
  },
  {
   "cell_type": "code",
   "execution_count": null,
   "metadata": {},
   "outputs": [],
   "source": []
  },
  {
   "cell_type": "code",
   "execution_count": null,
   "metadata": {},
   "outputs": [],
   "source": []
  }
 ],
 "metadata": {
  "kernelspec": {
   "display_name": "Python 3",
   "language": "python",
   "name": "python3"
  },
  "language_info": {
   "codemirror_mode": {
    "name": "ipython",
    "version": 3
   },
   "file_extension": ".py",
   "mimetype": "text/x-python",
   "name": "python",
   "nbconvert_exporter": "python",
   "pygments_lexer": "ipython3",
   "version": "3.7.3"
  }
 },
 "nbformat": 4,
 "nbformat_minor": 2
}
