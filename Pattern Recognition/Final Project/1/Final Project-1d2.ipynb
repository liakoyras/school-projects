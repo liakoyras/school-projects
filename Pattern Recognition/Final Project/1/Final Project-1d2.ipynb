{
 "cells": [
  {
   "cell_type": "markdown",
   "id": "e06ccb01",
   "metadata": {},
   "source": [
    "# CIFAR-10 Classification with CNN"
   ]
  },
  {
   "cell_type": "code",
   "execution_count": 1,
   "id": "ea57d7e2",
   "metadata": {
    "scrolled": false
   },
   "outputs": [],
   "source": [
    "import torch\n",
    "import torchvision\n",
    "from torchvision import datasets\n",
    "\n",
    "from torch import nn\n",
    "from torch import optim\n",
    "\n",
    "from torch.utils.data import Dataset, DataLoader\n",
    "from torchvision.transforms import ToTensor\n",
    "\n",
    "import math\n",
    "import numpy as np\n",
    "import matplotlib.pyplot as plt\n",
    "\n",
    "import neural_nets\n",
    "import cnn_utils as util"
   ]
  },
  {
   "cell_type": "code",
   "execution_count": 2,
   "id": "c838810c",
   "metadata": {},
   "outputs": [
    {
     "data": {
      "text/plain": [
       "<torch._C.Generator at 0x7fb914643790>"
      ]
     },
     "execution_count": 2,
     "metadata": {},
     "output_type": "execute_result"
    }
   ],
   "source": [
    "torch.manual_seed(42)"
   ]
  },
  {
   "cell_type": "markdown",
   "id": "c3f04897",
   "metadata": {},
   "source": [
    "## Import Data"
   ]
  },
  {
   "cell_type": "markdown",
   "id": "fe980515",
   "metadata": {},
   "source": [
    "### Download Dataset"
   ]
  },
  {
   "cell_type": "code",
   "execution_count": 3,
   "id": "b7960c76",
   "metadata": {},
   "outputs": [
    {
     "name": "stdout",
     "output_type": "stream",
     "text": [
      "Files already downloaded and verified\n",
      "Files already downloaded and verified\n"
     ]
    }
   ],
   "source": [
    "training_data = datasets.CIFAR10(\n",
    "    root=\"data\",\n",
    "    train=True,\n",
    "    download=True,\n",
    "    transform=ToTensor()\n",
    ")\n",
    "\n",
    "test_data = datasets.CIFAR10(\n",
    "    root=\"data\",\n",
    "    train=False,\n",
    "    download=True,\n",
    "    transform=ToTensor()\n",
    ")"
   ]
  },
  {
   "cell_type": "markdown",
   "id": "d6e23fdc",
   "metadata": {},
   "source": [
    "### Create Loaders"
   ]
  },
  {
   "cell_type": "markdown",
   "id": "ca39f3a7",
   "metadata": {},
   "source": [
    "This step is needed in order to automate the loading of images with set batch size."
   ]
  },
  {
   "cell_type": "code",
   "execution_count": 4,
   "id": "ed09e2fd",
   "metadata": {},
   "outputs": [],
   "source": [
    "batch_size = 256"
   ]
  },
  {
   "cell_type": "code",
   "execution_count": 5,
   "id": "98b43aaa",
   "metadata": {},
   "outputs": [],
   "source": [
    "train_loader = torch.utils.data.DataLoader(dataset=training_data,\n",
    "                                           batch_size=batch_size,\n",
    "                                           shuffle=True)\n",
    "\n",
    "test_loader = torch.utils.data.DataLoader(dataset=test_data,\n",
    "                                          batch_size=batch_size,\n",
    "                                          shuffle=True)"
   ]
  },
  {
   "cell_type": "markdown",
   "id": "482550d1",
   "metadata": {},
   "source": [
    "### Set general parameters"
   ]
  },
  {
   "cell_type": "code",
   "execution_count": 6,
   "id": "63d29027",
   "metadata": {},
   "outputs": [],
   "source": [
    "input_dimensions = (32,32)\n",
    "target_classes = 10"
   ]
  },
  {
   "cell_type": "markdown",
   "id": "0bbe470f",
   "metadata": {},
   "source": [
    "# Model Optimization"
   ]
  },
  {
   "cell_type": "markdown",
   "id": "ddfa163b",
   "metadata": {},
   "source": [
    "### Training hyperparameters"
   ]
  },
  {
   "cell_type": "code",
   "execution_count": 7,
   "id": "42a4b4ca",
   "metadata": {},
   "outputs": [],
   "source": [
    "num_epochs = 30\n",
    "learning_rate = 0.001"
   ]
  },
  {
   "cell_type": "markdown",
   "id": "632331f3",
   "metadata": {},
   "source": [
    "## 2: Layer number"
   ]
  },
  {
   "cell_type": "markdown",
   "id": "66d65678",
   "metadata": {},
   "source": [
    "The sets of parameters that are tested here will be chosen according to the results of the previous experiments."
   ]
  },
  {
   "cell_type": "markdown",
   "id": "24ceef09",
   "metadata": {},
   "source": [
    "### 3 Layers"
   ]
  },
  {
   "cell_type": "code",
   "execution_count": 8,
   "id": "b2023ea3",
   "metadata": {},
   "outputs": [],
   "source": [
    "filter_params = [[32, 64, 128], [64, 128, 256]]\n",
    "kernel_params = [[3, 3, 3], [5, 5, 5]]\n",
    "fulcon_params = [[64], [128], [256]]"
   ]
  },
  {
   "cell_type": "markdown",
   "id": "b5b4216b",
   "metadata": {},
   "source": [
    "#### Training"
   ]
  },
  {
   "cell_type": "code",
   "execution_count": 9,
   "id": "05d29be1",
   "metadata": {
    "scrolled": false
   },
   "outputs": [
    {
     "name": "stdout",
     "output_type": "stream",
     "text": [
      "CPU times: user 1h 4min 35s, sys: 8min 5s, total: 1h 12min 40s\n",
      "Wall time: 19min 19s\n",
      "Max accuracy: 0.7490000128746033 Epoch: 19 Params: [32, 64, 128] [3, 3, 3] [2048, 64, 10]\n",
      "----------------------------------------------------------------------------\n",
      "CPU times: user 1h 3min 28s, sys: 8min 30s, total: 1h 11min 58s\n",
      "Wall time: 19min 1s\n",
      "Max accuracy: 0.7486000061035156 Epoch: 16 Params: [32, 64, 128] [3, 3, 3] [2048, 128, 10]\n",
      "----------------------------------------------------------------------------\n",
      "CPU times: user 1h 9min 2s, sys: 8min 42s, total: 1h 17min 44s\n",
      "Wall time: 20min 29s\n",
      "Max accuracy: 0.7372999787330627 Epoch: 19 Params: [32, 64, 128] [3, 3, 3] [2048, 256, 10]\n",
      "----------------------------------------------------------------------------\n",
      "CPU times: user 2h 37min 3s, sys: 16min 18s, total: 2h 53min 22s\n",
      "Wall time: 24min 15s\n",
      "Max accuracy: 0.7361000180244446 Epoch: 11 Params: [32, 64, 128] [5, 5, 5] [2048, 64, 10]\n",
      "----------------------------------------------------------------------------\n",
      "CPU times: user 2h 37min 6s, sys: 13min 59s, total: 2h 51min 6s\n",
      "Wall time: 23min 51s\n",
      "Max accuracy: 0.7433000206947327 Epoch: 10 Params: [32, 64, 128] [5, 5, 5] [2048, 128, 10]\n",
      "----------------------------------------------------------------------------\n",
      "CPU times: user 2h 24min 3s, sys: 11min 23s, total: 2h 35min 27s\n",
      "Wall time: 21min 24s\n",
      "Max accuracy: 0.7307999730110168 Epoch: 13 Params: [32, 64, 128] [5, 5, 5] [2048, 256, 10]\n",
      "----------------------------------------------------------------------------\n",
      "CPU times: user 3h 54min 28s, sys: 22min 32s, total: 4h 17min 1s\n",
      "Wall time: 34min 58s\n",
      "Max accuracy: 0.7608000040054321 Epoch: 14 Params: [64, 128, 256] [3, 3, 3] [4096, 64, 10]\n",
      "----------------------------------------------------------------------------\n",
      "CPU times: user 4h 8s, sys: 22min 37s, total: 4h 22min 45s\n",
      "Wall time: 35min 37s\n",
      "Max accuracy: 0.7581999897956848 Epoch: 10 Params: [64, 128, 256] [3, 3, 3] [4096, 128, 10]\n",
      "----------------------------------------------------------------------------\n",
      "CPU times: user 4h 39min 45s, sys: 25min 24s, total: 5h 5min 9s\n",
      "Wall time: 40min 50s\n",
      "Max accuracy: 0.7465000152587891 Epoch: 12 Params: [64, 128, 256] [3, 3, 3] [4096, 256, 10]\n",
      "----------------------------------------------------------------------------\n",
      "CPU times: user 7h 37min 22s, sys: 43min 34s, total: 8h 20min 56s\n",
      "Wall time: 1h 5min 47s\n",
      "Max accuracy: 0.7261999845504761 Epoch: 11 Params: [64, 128, 256] [5, 5, 5] [4096, 64, 10]\n",
      "----------------------------------------------------------------------------\n",
      "CPU times: user 7h 29min 32s, sys: 39min 38s, total: 8h 9min 10s\n",
      "Wall time: 1h 4min 15s\n",
      "Max accuracy: 0.7177000045776367 Epoch: 10 Params: [64, 128, 256] [5, 5, 5] [4096, 128, 10]\n",
      "----------------------------------------------------------------------------\n",
      "CPU times: user 7h 29min 16s, sys: 32min 40s, total: 8h 1min 56s\n",
      "Wall time: 1h 6min 54s\n",
      "Max accuracy: 0.7113000154495239 Epoch: 15 Params: [64, 128, 256] [5, 5, 5] [4096, 256, 10]\n",
      "----------------------------------------------------------------------------\n"
     ]
    }
   ],
   "source": [
    "for f in filter_params:\n",
    "    for k in kernel_params:\n",
    "        for fci in range(len(fulcon_params)):\n",
    "            fc = fulcon_params[fci].copy()\n",
    "            cnn = neural_nets.CNN(n_conv_layers=3,\n",
    "                                  filters=f,\n",
    "                                  kernel=k,\n",
    "                                  activation=['relu', 'relu', 'relu'],\n",
    "                                  norm=[False, False, False],\n",
    "                                  pool=[2, 2, 2],\n",
    "                                  input_channels=3,\n",
    "                                  fully_connected=fc,\n",
    "                                  input_dims=input_dimensions,\n",
    "                                  classes=target_classes)\n",
    "            cross_entropy = nn.CrossEntropyLoss()\n",
    "            adam = optim.Adam(cnn.parameters(), lr=learning_rate)\n",
    "            %time losses, accuracies = util.train_loop(cnn, cross_entropy, adam, train_loader, test_loader, num_epochs, 0)\n",
    "            \n",
    "            print(\"Max accuracy:\", max(accuracies), \"Epoch:\", np.argmax(accuracies)+1, \"Params:\", f, k, fc)\n",
    "            print(76*\"-\")"
   ]
  },
  {
   "cell_type": "markdown",
   "id": "efce3f54",
   "metadata": {},
   "source": [
    "### 4 Layers"
   ]
  },
  {
   "cell_type": "code",
   "execution_count": 13,
   "id": "36b4526d",
   "metadata": {},
   "outputs": [],
   "source": [
    "filter_params = [[16, 32, 64, 128], [32, 64, 128, 256], [64, 128, 256, 512]]\n",
    "kernel_params = [[3, 3, 3, 3]] # image is not big enough after 3 pooling layers to use larger kernels\n",
    "fulcon_params = [[32], [64], [128], [256]]"
   ]
  },
  {
   "cell_type": "markdown",
   "id": "c23ccf01",
   "metadata": {},
   "source": [
    "#### Training"
   ]
  },
  {
   "cell_type": "code",
   "execution_count": 14,
   "id": "5e64d64c",
   "metadata": {
    "scrolled": false
   },
   "outputs": [
    {
     "name": "stdout",
     "output_type": "stream",
     "text": [
      "CPU times: user 52min 54s, sys: 4min 42s, total: 57min 37s\n",
      "Wall time: 10min 11s\n",
      "Max accuracy: 0.7208999991416931 Epoch: 24 Params: [16, 32, 64, 128] [3, 3, 3, 3] [512, 32, 10]\n",
      "----------------------------------------------------------------------------\n",
      "CPU times: user 53min 41s, sys: 4min 40s, total: 58min 21s\n",
      "Wall time: 9min 51s\n",
      "Max accuracy: 0.7020999789237976 Epoch: 19 Params: [16, 32, 64, 128] [3, 3, 3, 3] [512, 64, 10]\n",
      "----------------------------------------------------------------------------\n",
      "CPU times: user 56min 39s, sys: 4min 42s, total: 1h 1min 21s\n",
      "Wall time: 10min 6s\n",
      "Max accuracy: 0.7168999910354614 Epoch: 15 Params: [16, 32, 64, 128] [3, 3, 3, 3] [512, 128, 10]\n",
      "----------------------------------------------------------------------------\n",
      "CPU times: user 59min 29s, sys: 4min 49s, total: 1h 4min 18s\n",
      "Wall time: 10min 36s\n",
      "Max accuracy: 0.7095999717712402 Epoch: 13 Params: [16, 32, 64, 128] [3, 3, 3, 3] [512, 256, 10]\n",
      "----------------------------------------------------------------------------\n",
      "CPU times: user 2h 11min 26s, sys: 14min 48s, total: 2h 26min 15s\n",
      "Wall time: 21min 2s\n",
      "Max accuracy: 0.7386000156402588 Epoch: 13 Params: [32, 64, 128, 256] [3, 3, 3, 3] [1024, 32, 10]\n",
      "----------------------------------------------------------------------------\n",
      "CPU times: user 2h 13min 34s, sys: 15min 7s, total: 2h 28min 42s\n",
      "Wall time: 21min 6s\n",
      "Max accuracy: 0.7469000220298767 Epoch: 14 Params: [32, 64, 128, 256] [3, 3, 3, 3] [1024, 64, 10]\n",
      "----------------------------------------------------------------------------\n",
      "CPU times: user 2h 12min 3s, sys: 14min 58s, total: 2h 27min 1s\n",
      "Wall time: 20min 51s\n",
      "Max accuracy: 0.7351999878883362 Epoch: 9 Params: [32, 64, 128, 256] [3, 3, 3, 3] [1024, 128, 10]\n",
      "----------------------------------------------------------------------------\n",
      "CPU times: user 1h 59min 52s, sys: 14min 4s, total: 2h 13min 57s\n",
      "Wall time: 18min 50s\n",
      "Max accuracy: 0.7376999855041504 Epoch: 11 Params: [32, 64, 128, 256] [3, 3, 3, 3] [1024, 256, 10]\n",
      "----------------------------------------------------------------------------\n",
      "CPU times: user 5h 23min 15s, sys: 39min 22s, total: 6h 2min 38s\n",
      "Wall time: 48min 17s\n",
      "Max accuracy: 0.7680000066757202 Epoch: 10 Params: [64, 128, 256, 512] [3, 3, 3, 3] [2048, 32, 10]\n",
      "----------------------------------------------------------------------------\n",
      "CPU times: user 5h 30min 6s, sys: 39min 33s, total: 6h 9min 40s\n",
      "Wall time: 49min 4s\n",
      "Max accuracy: 0.7616000175476074 Epoch: 8 Params: [64, 128, 256, 512] [3, 3, 3, 3] [2048, 64, 10]\n",
      "----------------------------------------------------------------------------\n",
      "CPU times: user 5h 31min 47s, sys: 39min 49s, total: 6h 11min 36s\n",
      "Wall time: 49min 18s\n",
      "Max accuracy: 0.7664999961853027 Epoch: 19 Params: [64, 128, 256, 512] [3, 3, 3, 3] [2048, 128, 10]\n",
      "----------------------------------------------------------------------------\n",
      "CPU times: user 5h 22min 16s, sys: 38min 12s, total: 6h 28s\n",
      "Wall time: 48min 5s\n",
      "Max accuracy: 0.755299985408783 Epoch: 14 Params: [64, 128, 256, 512] [3, 3, 3, 3] [2048, 256, 10]\n",
      "----------------------------------------------------------------------------\n"
     ]
    }
   ],
   "source": [
    "for f in filter_params:\n",
    "    for k in kernel_params:\n",
    "        for fci in range(len(fulcon_params)):\n",
    "            fc = fulcon_params[fci].copy()\n",
    "            cnn = neural_nets.CNN(n_conv_layers=4,\n",
    "                                  filters=f,\n",
    "                                  kernel=k,\n",
    "                                  activation=['relu', 'relu', 'relu', 'relu'],\n",
    "                                  norm=[False, False, False, False],\n",
    "                                  pool=[2, 2, 2, 2],\n",
    "                                  input_channels=3,\n",
    "                                  fully_connected=fc,\n",
    "                                  input_dims=input_dimensions,\n",
    "                                  classes=target_classes)\n",
    "            cross_entropy = nn.CrossEntropyLoss()\n",
    "            adam = optim.Adam(cnn.parameters(), lr=learning_rate)\n",
    "            %time losses, accuracies = util.train_loop(cnn, cross_entropy, adam, train_loader, test_loader, num_epochs, 0)\n",
    "            \n",
    "            print(\"Max accuracy:\", max(accuracies), \"Epoch:\", np.argmax(accuracies)+1, \"Params:\", f, k, fc)\n",
    "            print(76*\"-\")"
   ]
  }
 ],
 "metadata": {
  "kernelspec": {
   "display_name": "Python 3 (ipykernel)",
   "language": "python",
   "name": "python3"
  },
  "language_info": {
   "codemirror_mode": {
    "name": "ipython",
    "version": 3
   },
   "file_extension": ".py",
   "mimetype": "text/x-python",
   "name": "python",
   "nbconvert_exporter": "python",
   "pygments_lexer": "ipython3",
   "version": "3.8.10"
  }
 },
 "nbformat": 4,
 "nbformat_minor": 5
}
