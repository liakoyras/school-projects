{
 "cells": [
  {
   "cell_type": "markdown",
   "id": "e06ccb01",
   "metadata": {},
   "source": [
    "# CIFAR-10 Classification with CNN"
   ]
  },
  {
   "cell_type": "code",
   "execution_count": 1,
   "id": "ea57d7e2",
   "metadata": {
    "scrolled": false
   },
   "outputs": [],
   "source": [
    "import torch\n",
    "import torchvision\n",
    "from torchvision import datasets\n",
    "\n",
    "from torch import nn\n",
    "from torch import optim\n",
    "\n",
    "from torch.utils.data import Dataset, DataLoader\n",
    "from torchvision.transforms import ToTensor\n",
    "\n",
    "import math\n",
    "import numpy as np\n",
    "import matplotlib.pyplot as plt\n",
    "\n",
    "import neural_nets\n",
    "import cnn_utils as util"
   ]
  },
  {
   "cell_type": "code",
   "execution_count": 2,
   "id": "c838810c",
   "metadata": {},
   "outputs": [
    {
     "data": {
      "text/plain": [
       "<torch._C.Generator at 0x7f63e4d487d0>"
      ]
     },
     "execution_count": 2,
     "metadata": {},
     "output_type": "execute_result"
    }
   ],
   "source": [
    "torch.manual_seed(42)"
   ]
  },
  {
   "cell_type": "markdown",
   "id": "c3f04897",
   "metadata": {},
   "source": [
    "## Import Data"
   ]
  },
  {
   "cell_type": "markdown",
   "id": "fe980515",
   "metadata": {},
   "source": [
    "### Download Dataset"
   ]
  },
  {
   "cell_type": "code",
   "execution_count": 3,
   "id": "b7960c76",
   "metadata": {},
   "outputs": [
    {
     "name": "stdout",
     "output_type": "stream",
     "text": [
      "Files already downloaded and verified\n",
      "Files already downloaded and verified\n"
     ]
    }
   ],
   "source": [
    "training_data = datasets.CIFAR10(\n",
    "    root=\"data\",\n",
    "    train=True,\n",
    "    download=True,\n",
    "    transform=ToTensor()\n",
    ")\n",
    "\n",
    "test_data = datasets.CIFAR10(\n",
    "    root=\"data\",\n",
    "    train=False,\n",
    "    download=True,\n",
    "    transform=ToTensor()\n",
    ")"
   ]
  },
  {
   "cell_type": "markdown",
   "id": "d6e23fdc",
   "metadata": {},
   "source": [
    "### Create Loaders"
   ]
  },
  {
   "cell_type": "markdown",
   "id": "ca39f3a7",
   "metadata": {},
   "source": [
    "This step is needed in order to automate the loading of images with set batch size."
   ]
  },
  {
   "cell_type": "code",
   "execution_count": 4,
   "id": "ed09e2fd",
   "metadata": {},
   "outputs": [],
   "source": [
    "batch_size = 256"
   ]
  },
  {
   "cell_type": "code",
   "execution_count": 5,
   "id": "98b43aaa",
   "metadata": {},
   "outputs": [],
   "source": [
    "train_loader = torch.utils.data.DataLoader(dataset=training_data,\n",
    "                                           batch_size=batch_size,\n",
    "                                           shuffle=True)\n",
    "\n",
    "test_loader = torch.utils.data.DataLoader(dataset=test_data,\n",
    "                                          batch_size=batch_size,\n",
    "                                          shuffle=True)"
   ]
  },
  {
   "cell_type": "markdown",
   "id": "482550d1",
   "metadata": {},
   "source": [
    "### Set general parameters"
   ]
  },
  {
   "cell_type": "code",
   "execution_count": 6,
   "id": "63d29027",
   "metadata": {},
   "outputs": [],
   "source": [
    "input_dimensions = (32,32)\n",
    "target_classes = 10"
   ]
  },
  {
   "cell_type": "markdown",
   "id": "0bbe470f",
   "metadata": {},
   "source": [
    "# Model Optimization"
   ]
  },
  {
   "cell_type": "markdown",
   "id": "ddfa163b",
   "metadata": {},
   "source": [
    "### Training hyperparameters"
   ]
  },
  {
   "cell_type": "code",
   "execution_count": 7,
   "id": "42a4b4ca",
   "metadata": {},
   "outputs": [],
   "source": [
    "num_epochs = 30\n",
    "learning_rate = 0.001"
   ]
  },
  {
   "cell_type": "markdown",
   "id": "632331f3",
   "metadata": {},
   "source": [
    "## 3: VGG Layers"
   ]
  },
  {
   "cell_type": "markdown",
   "id": "66d65678",
   "metadata": {},
   "source": [
    "Finally, VGG-style layers (using two consecutive convolutional layers before pooling) will be tried."
   ]
  },
  {
   "cell_type": "markdown",
   "id": "24ceef09",
   "metadata": {},
   "source": [
    "### 3 Blocks"
   ]
  },
  {
   "cell_type": "code",
   "execution_count": 8,
   "id": "b2023ea3",
   "metadata": {},
   "outputs": [],
   "source": [
    "filter_params = [[64, 64, 128, 128, 256, 256], [64, 128, 128, 256, 256, 512]]\n",
    "kernel_params = [[3, 3, 3, 3, 3, 3]]\n",
    "fulcon_params = [[32], [64], [128]]"
   ]
  },
  {
   "cell_type": "markdown",
   "id": "b5b4216b",
   "metadata": {},
   "source": [
    "#### Training"
   ]
  },
  {
   "cell_type": "code",
   "execution_count": 9,
   "id": "05d29be1",
   "metadata": {
    "scrolled": false
   },
   "outputs": [
    {
     "name": "stdout",
     "output_type": "stream",
     "text": [
      "CPU times: user 11h 2min 42s, sys: 1h 17min 3s, total: 12h 19min 46s\n",
      "Wall time: 1h 40min 13s\n",
      "Max accuracy: 0.7875999808311462 Epoch: 12 Params: [64, 64, 128, 128, 256, 256] [3, 3, 3, 3, 3, 3] [4096, 32, 10]\n",
      "----------------------------------------------------------------------------\n",
      "CPU times: user 10h 51min 52s, sys: 1h 6min 19s, total: 11h 58min 11s\n",
      "Wall time: 1h 37min 43s\n",
      "Max accuracy: 0.7936000227928162 Epoch: 28 Params: [64, 64, 128, 128, 256, 256] [3, 3, 3, 3, 3, 3] [4096, 64, 10]\n",
      "----------------------------------------------------------------------------\n",
      "CPU times: user 10h 47min 13s, sys: 1h 15min 47s, total: 12h 3min 1s\n",
      "Wall time: 1h 38min 14s\n",
      "Max accuracy: 0.7924000024795532 Epoch: 15 Params: [64, 64, 128, 128, 256, 256] [3, 3, 3, 3, 3, 3] [4096, 128, 10]\n",
      "----------------------------------------------------------------------------\n",
      "CPU times: user 18h 51min 29s, sys: 2h 9min 10s, total: 21h 40s\n",
      "Wall time: 2h 54min 30s\n",
      "Max accuracy: 0.7885000109672546 Epoch: 10 Params: [64, 128, 128, 256, 256, 512] [3, 3, 3, 3, 3, 3] [8192, 32, 10]\n",
      "----------------------------------------------------------------------------\n",
      "CPU times: user 20h 43min 13s, sys: 2h 14min 26s, total: 22h 57min 40s\n",
      "Wall time: 3h 8min 49s\n",
      "Max accuracy: 0.7882000207901001 Epoch: 18 Params: [64, 128, 128, 256, 256, 512] [3, 3, 3, 3, 3, 3] [8192, 64, 10]\n",
      "----------------------------------------------------------------------------\n",
      "CPU times: user 21h 58min 52s, sys: 2h 19min 24s, total: 1d 18min 17s\n",
      "Wall time: 3h 17min 57s\n",
      "Max accuracy: 0.7864999771118164 Epoch: 20 Params: [64, 128, 128, 256, 256, 512] [3, 3, 3, 3, 3, 3] [8192, 128, 10]\n",
      "----------------------------------------------------------------------------\n"
     ]
    }
   ],
   "source": [
    "for f in filter_params:\n",
    "    for k in kernel_params:\n",
    "        for fci in range(len(fulcon_params)):\n",
    "            fc = fulcon_params[fci].copy()\n",
    "            cnn = neural_nets.CNN(n_conv_layers=6,\n",
    "                                  filters=f,\n",
    "                                  kernel=k,\n",
    "                                  activation=['relu', 'relu', 'relu', 'relu', 'relu', 'relu'],\n",
    "                                  norm=[False, False, False, False, False, False],\n",
    "                                  pool=[0, 2, 0, 2, 0, 2],\n",
    "                                  input_channels=3,\n",
    "                                  fully_connected=fc,\n",
    "                                  input_dims=input_dimensions,\n",
    "                                  classes=target_classes)\n",
    "            cross_entropy = nn.CrossEntropyLoss()\n",
    "            adam = optim.Adam(cnn.parameters(), lr=learning_rate)\n",
    "            %time losses, accuracies = util.train_loop(cnn, cross_entropy, adam, train_loader, test_loader, num_epochs, 0)\n",
    "            \n",
    "            print(\"Max accuracy:\", max(accuracies), \"Epoch:\", np.argmax(accuracies)+1, \"Params:\", f, k, fc)\n",
    "            print(76*\"-\")"
   ]
  },
  {
   "cell_type": "markdown",
   "id": "98639028",
   "metadata": {},
   "source": [
    "### 4 Blocks"
   ]
  },
  {
   "cell_type": "markdown",
   "id": "5b537315",
   "metadata": {},
   "source": [
    "Different kernel sizes on the same block (for example `[32, 64, 64, 128, 128, 256, 256, 512]`) were not considered because the previous experiment showed that they perform suboptimally."
   ]
  },
  {
   "cell_type": "code",
   "execution_count": 9,
   "id": "587852d7",
   "metadata": {},
   "outputs": [],
   "source": [
    "filter_params = [[64, 64, 128, 128, 256, 256, 512, 512]]\n",
    "kernel_params = [[3, 3, 3, 3, 3, 3, 3, 3]]\n",
    "fulcon_params = [[32], [64], [128], [256]]"
   ]
  },
  {
   "cell_type": "markdown",
   "id": "ab1da659",
   "metadata": {},
   "source": [
    "#### Training"
   ]
  },
  {
   "cell_type": "code",
   "execution_count": 11,
   "id": "7444fb93",
   "metadata": {
    "scrolled": false
   },
   "outputs": [
    {
     "name": "stdout",
     "output_type": "stream",
     "text": [
      "CPU times: user 15h 24min 22s, sys: 1h 18min 34s, total: 16h 42min 56s\n",
      "Wall time: 2h 16min 15s\n",
      "Max accuracy: 0.7842000126838684 Epoch: 27 Params: [64, 64, 128, 128, 256, 256, 512, 512] [3, 3, 3, 3, 3, 3, 3, 3] [2048, 32, 10]\n",
      "----------------------------------------------------------------------------\n",
      "CPU times: user 16h 1min 52s, sys: 1h 37min 13s, total: 17h 39min 6s\n",
      "Wall time: 2h 21min 38s\n",
      "Max accuracy: 0.7757999897003174 Epoch: 12 Params: [64, 64, 128, 128, 256, 256, 512, 512] [3, 3, 3, 3, 3, 3, 3, 3] [2048, 64, 10]\n",
      "----------------------------------------------------------------------------\n",
      "CPU times: user 16h 40min 44s, sys: 1h 38min 31s, total: 18h 19min 16s\n",
      "Wall time: 2h 21min 49s\n",
      "Max accuracy: 0.7684999704360962 Epoch: 20 Params: [64, 64, 128, 128, 256, 256, 512, 512] [3, 3, 3, 3, 3, 3, 3, 3] [2048, 128, 10]\n",
      "----------------------------------------------------------------------------\n"
     ]
    }
   ],
   "source": [
    "for f in filter_params:\n",
    "    for k in kernel_params:\n",
    "        for fci in range(len(fulcon_params)):\n",
    "            fc = fulcon_params[fci].copy()\n",
    "            cnn = neural_nets.CNN(n_conv_layers=8,\n",
    "                                  filters=f,\n",
    "                                  kernel=k,\n",
    "                                  activation=['relu', 'relu', 'relu', 'relu', 'relu', 'relu', 'relu', 'relu'],\n",
    "                                  norm=[False, False, False, False, False, False, False, False],\n",
    "                                  pool=[0, 2, 0, 2, 0, 2, 0, 2],\n",
    "                                  input_channels=3,\n",
    "                                  fully_connected=fc,\n",
    "                                  input_dims=input_dimensions,\n",
    "                                  classes=target_classes)\n",
    "            cross_entropy = nn.CrossEntropyLoss()\n",
    "            adam = optim.Adam(cnn.parameters(), lr=learning_rate)\n",
    "            %time losses, accuracies = util.train_loop(cnn, cross_entropy, adam, train_loader, test_loader, num_epochs, 0)\n",
    "            \n",
    "            print(\"Max accuracy:\", max(accuracies), \"Epoch:\", np.argmax(accuracies)+1, \"Params:\", f, k, fc)\n",
    "            print(76*\"-\")"
   ]
  }
 ],
 "metadata": {
  "kernelspec": {
   "display_name": "Python 3 (ipykernel)",
   "language": "python",
   "name": "python3"
  },
  "language_info": {
   "codemirror_mode": {
    "name": "ipython",
    "version": 3
   },
   "file_extension": ".py",
   "mimetype": "text/x-python",
   "name": "python",
   "nbconvert_exporter": "python",
   "pygments_lexer": "ipython3",
   "version": "3.8.10"
  }
 },
 "nbformat": 4,
 "nbformat_minor": 5
}
