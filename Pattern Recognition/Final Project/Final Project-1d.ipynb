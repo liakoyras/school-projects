{
 "cells": [
  {
   "cell_type": "markdown",
   "id": "e06ccb01",
   "metadata": {},
   "source": [
    "# CIFAR-10 Classification with CNN"
   ]
  },
  {
   "cell_type": "code",
   "execution_count": 1,
   "id": "ea57d7e2",
   "metadata": {
    "scrolled": false
   },
   "outputs": [],
   "source": [
    "import torch\n",
    "import torchvision\n",
    "from torchvision import datasets\n",
    "\n",
    "from torch import nn\n",
    "from torch import optim\n",
    "\n",
    "from torch.utils.data import Dataset, DataLoader\n",
    "from torchvision.transforms import ToTensor\n",
    "\n",
    "import math\n",
    "import numpy as np\n",
    "import matplotlib.pyplot as plt\n",
    "\n",
    "import neural_nets\n",
    "import cnn_utils as util"
   ]
  },
  {
   "cell_type": "code",
   "execution_count": 2,
   "id": "c838810c",
   "metadata": {},
   "outputs": [
    {
     "data": {
      "text/plain": [
       "<torch._C.Generator at 0x7f104deb57b0>"
      ]
     },
     "execution_count": 2,
     "metadata": {},
     "output_type": "execute_result"
    }
   ],
   "source": [
    "torch.manual_seed(42)"
   ]
  },
  {
   "cell_type": "markdown",
   "id": "c3f04897",
   "metadata": {},
   "source": [
    "## Import Data"
   ]
  },
  {
   "cell_type": "markdown",
   "id": "fe980515",
   "metadata": {},
   "source": [
    "### Download Dataset"
   ]
  },
  {
   "cell_type": "code",
   "execution_count": 3,
   "id": "b7960c76",
   "metadata": {},
   "outputs": [
    {
     "name": "stdout",
     "output_type": "stream",
     "text": [
      "Files already downloaded and verified\n",
      "Files already downloaded and verified\n"
     ]
    }
   ],
   "source": [
    "training_data = datasets.CIFAR10(\n",
    "    root=\"data\",\n",
    "    train=True,\n",
    "    download=True,\n",
    "    transform=ToTensor()\n",
    ")\n",
    "\n",
    "test_data = datasets.CIFAR10(\n",
    "    root=\"data\",\n",
    "    train=False,\n",
    "    download=True,\n",
    "    transform=ToTensor()\n",
    ")"
   ]
  },
  {
   "cell_type": "markdown",
   "id": "d6e23fdc",
   "metadata": {},
   "source": [
    "### Create Loaders"
   ]
  },
  {
   "cell_type": "markdown",
   "id": "ca39f3a7",
   "metadata": {},
   "source": [
    "This step is needed in order to automate the loading of images with set batch size."
   ]
  },
  {
   "cell_type": "code",
   "execution_count": 4,
   "id": "ed09e2fd",
   "metadata": {},
   "outputs": [],
   "source": [
    "batch_size = 256"
   ]
  },
  {
   "cell_type": "code",
   "execution_count": 5,
   "id": "98b43aaa",
   "metadata": {},
   "outputs": [],
   "source": [
    "train_loader = torch.utils.data.DataLoader(dataset=training_data,\n",
    "                                           batch_size=batch_size,\n",
    "                                           shuffle=True)\n",
    "\n",
    "test_loader = torch.utils.data.DataLoader(dataset=test_data,\n",
    "                                          batch_size=batch_size,\n",
    "                                          shuffle=True)"
   ]
  },
  {
   "cell_type": "markdown",
   "id": "482550d1",
   "metadata": {},
   "source": [
    "### Set general parameters"
   ]
  },
  {
   "cell_type": "code",
   "execution_count": 6,
   "id": "63d29027",
   "metadata": {},
   "outputs": [],
   "source": [
    "input_dimensions = (32,32)\n",
    "target_classes = 10"
   ]
  },
  {
   "cell_type": "markdown",
   "id": "0bbe470f",
   "metadata": {},
   "source": [
    "# Model Optimization"
   ]
  },
  {
   "cell_type": "markdown",
   "id": "632331f3",
   "metadata": {},
   "source": [
    "## 1: Layer Parameters"
   ]
  },
  {
   "cell_type": "markdown",
   "id": "66d65678",
   "metadata": {},
   "source": [
    "The sets of parameters that are tested here will be chosen according to some general trends observed in the field."
   ]
  },
  {
   "cell_type": "code",
   "execution_count": 7,
   "id": "b2023ea3",
   "metadata": {},
   "outputs": [],
   "source": [
    "filter_params = [[32, 64], [64, 128], [128, 256]]\n",
    "kernel_params = [[3, 3], [5, 5], [7, 7], [7, 5], [5, 3]]\n",
    "fulcon_params = [[128], [256], [512]]"
   ]
  },
  {
   "cell_type": "markdown",
   "id": "b5b4216b",
   "metadata": {},
   "source": [
    "### Training"
   ]
  },
  {
   "cell_type": "markdown",
   "id": "0833d79a",
   "metadata": {},
   "source": [
    "#### Training hyperparameters"
   ]
  },
  {
   "cell_type": "code",
   "execution_count": 8,
   "id": "78a4d727",
   "metadata": {},
   "outputs": [],
   "source": [
    "num_epochs = 25\n",
    "learning_rate = 0.001"
   ]
  },
  {
   "cell_type": "code",
   "execution_count": 9,
   "id": "05d29be1",
   "metadata": {
    "scrolled": false
   },
   "outputs": [
    {
     "name": "stdout",
     "output_type": "stream",
     "text": [
      "CPU times: user 42min 36s, sys: 4min 30s, total: 47min 6s\n",
      "Wall time: 10min 50s\n",
      "Max accuracy: 0.7125999927520752 Epoch: 17 Params: [32, 64] [3, 3] [4096, 128, 10]\n",
      "----------------------------------------------------------------------------\n",
      "CPU times: user 46min 30s, sys: 5min, total: 51min 30s\n",
      "Wall time: 11min 35s\n",
      "Max accuracy: 0.6984999775886536 Epoch: 19 Params: [32, 64] [3, 3] [4096, 256, 10]\n",
      "----------------------------------------------------------------------------\n",
      "CPU times: user 55min 50s, sys: 5min 24s, total: 1h 1min 15s\n",
      "Wall time: 13min\n",
      "Max accuracy: 0.7019000053405762 Epoch: 11 Params: [32, 64] [3, 3] [4096, 512, 10]\n",
      "----------------------------------------------------------------------------\n",
      "CPU times: user 1h 30min 23s, sys: 8min 46s, total: 1h 39min 9s\n",
      "Wall time: 14min 4s\n",
      "Max accuracy: 0.7067999839782715 Epoch: 9 Params: [32, 64] [5, 5] [4096, 128, 10]\n",
      "----------------------------------------------------------------------------\n",
      "CPU times: user 1h 35min 26s, sys: 9min 7s, total: 1h 44min 33s\n",
      "Wall time: 14min 49s\n",
      "Max accuracy: 0.7027999758720398 Epoch: 9 Params: [32, 64] [5, 5] [4096, 256, 10]\n",
      "----------------------------------------------------------------------------\n",
      "CPU times: user 1h 50min 48s, sys: 8min 12s, total: 1h 59min\n",
      "Wall time: 16min 38s\n",
      "Max accuracy: 0.6970000267028809 Epoch: 8 Params: [32, 64] [5, 5] [4096, 512, 10]\n",
      "----------------------------------------------------------------------------\n",
      "CPU times: user 2h 5min 52s, sys: 8min 58s, total: 2h 14min 50s\n",
      "Wall time: 19min 3s\n",
      "Max accuracy: 0.6906999945640564 Epoch: 14 Params: [32, 64] [7, 7] [4096, 128, 10]\n",
      "----------------------------------------------------------------------------\n",
      "CPU times: user 2h 7min 3s, sys: 8min 18s, total: 2h 15min 21s\n",
      "Wall time: 19min 23s\n",
      "Max accuracy: 0.6728000044822693 Epoch: 20 Params: [32, 64] [7, 7] [4096, 256, 10]\n",
      "----------------------------------------------------------------------------\n",
      "CPU times: user 2h 18min 13s, sys: 10min 39s, total: 2h 28min 52s\n",
      "Wall time: 21min\n",
      "Max accuracy: 0.6542999744415283 Epoch: 22 Params: [32, 64] [7, 7] [4096, 512, 10]\n",
      "----------------------------------------------------------------------------\n",
      "CPU times: user 1h 32min 36s, sys: 8min 44s, total: 1h 41min 20s\n",
      "Wall time: 14min 23s\n",
      "Max accuracy: 0.6966000199317932 Epoch: 16 Params: [32, 64] [7, 5] [4096, 128, 10]\n",
      "----------------------------------------------------------------------------\n",
      "CPU times: user 1h 43min 46s, sys: 10min 33s, total: 1h 54min 20s\n",
      "Wall time: 16min 3s\n",
      "Max accuracy: 0.6973000168800354 Epoch: 11 Params: [32, 64] [7, 5] [4096, 256, 10]\n",
      "----------------------------------------------------------------------------\n",
      "CPU times: user 2h 4min 7s, sys: 6min 25s, total: 2h 10min 32s\n",
      "Wall time: 18min 10s\n",
      "Max accuracy: 0.6836000084877014 Epoch: 11 Params: [32, 64] [7, 5] [4096, 512, 10]\n",
      "----------------------------------------------------------------------------\n",
      "CPU times: user 40min 6s, sys: 12min 41s, total: 52min 48s\n",
      "Wall time: 12min 1s\n",
      "Max accuracy: 0.704800009727478 Epoch: 16 Params: [32, 64] [5, 3] [4096, 128, 10]\n",
      "----------------------------------------------------------------------------\n",
      "CPU times: user 47min 45s, sys: 12min 5s, total: 59min 50s\n",
      "Wall time: 13min 10s\n",
      "Max accuracy: 0.6949999928474426 Epoch: 17 Params: [32, 64] [5, 3] [4096, 256, 10]\n",
      "----------------------------------------------------------------------------\n",
      "CPU times: user 1h 13s, sys: 10min 53s, total: 1h 11min 6s\n",
      "Wall time: 14min 56s\n",
      "Max accuracy: 0.6983000040054321 Epoch: 10 Params: [32, 64] [5, 3] [4096, 512, 10]\n",
      "----------------------------------------------------------------------------\n",
      "CPU times: user 2h 51min 27s, sys: 21min 31s, total: 3h 12min 59s\n",
      "Wall time: 26min 4s\n",
      "Max accuracy: 0.7099999785423279 Epoch: 25 Params: [64, 128] [3, 3] [8192, 128, 10]\n",
      "----------------------------------------------------------------------------\n",
      "CPU times: user 2h 52min 52s, sys: 25min 43s, total: 3h 18min 36s\n",
      "Wall time: 26min 52s\n",
      "Max accuracy: 0.7039999961853027 Epoch: 20 Params: [64, 128] [3, 3] [8192, 256, 10]\n",
      "----------------------------------------------------------------------------\n",
      "CPU times: user 3h 7min 4s, sys: 41min 10s, total: 3h 48min 14s\n",
      "Wall time: 30min 39s\n",
      "Max accuracy: 0.6935999989509583 Epoch: 22 Params: [64, 128] [3, 3] [8192, 512, 10]\n",
      "----------------------------------------------------------------------------\n",
      "CPU times: user 4h 1min 29s, sys: 27min 53s, total: 4h 29min 23s\n",
      "Wall time: 37min 41s\n",
      "Max accuracy: 0.6884999871253967 Epoch: 19 Params: [64, 128] [5, 5] [8192, 128, 10]\n",
      "----------------------------------------------------------------------------\n",
      "CPU times: user 4h 24min 15s, sys: 25min 11s, total: 4h 49min 27s\n",
      "Wall time: 39min 44s\n",
      "Max accuracy: 0.6966000199317932 Epoch: 23 Params: [64, 128] [5, 5] [8192, 256, 10]\n",
      "----------------------------------------------------------------------------\n",
      "CPU times: user 4h 35min 56s, sys: 40min 34s, total: 5h 16min 31s\n",
      "Wall time: 43min 14s\n",
      "Max accuracy: 0.6948999762535095 Epoch: 25 Params: [64, 128] [5, 5] [8192, 512, 10]\n",
      "----------------------------------------------------------------------------\n",
      "CPU times: user 5h 37min 35s, sys: 40min 58s, total: 6h 18min 33s\n",
      "Wall time: 52min 48s\n",
      "Max accuracy: 0.679099977016449 Epoch: 24 Params: [64, 128] [7, 7] [8192, 128, 10]\n",
      "----------------------------------------------------------------------------\n",
      "CPU times: user 6h 4min 52s, sys: 35min 8s, total: 6h 40min 1s\n",
      "Wall time: 54min 44s\n",
      "Max accuracy: 0.6876999735832214 Epoch: 23 Params: [64, 128] [7, 7] [8192, 256, 10]\n",
      "----------------------------------------------------------------------------\n",
      "CPU times: user 6h 28min 37s, sys: 38min 22s, total: 7h 7min\n",
      "Wall time: 58min 39s\n",
      "Max accuracy: 0.6830999851226807 Epoch: 21 Params: [64, 128] [7, 7] [8192, 512, 10]\n",
      "----------------------------------------------------------------------------\n",
      "CPU times: user 4h 23min 45s, sys: 23min 48s, total: 4h 47min 33s\n",
      "Wall time: 38min 26s\n",
      "Max accuracy: 0.7027000188827515 Epoch: 16 Params: [64, 128] [7, 5] [8192, 128, 10]\n",
      "----------------------------------------------------------------------------\n",
      "CPU times: user 4h 27min 41s, sys: 26min 35s, total: 4h 54min 16s\n",
      "Wall time: 38min 45s\n",
      "Max accuracy: 0.6988000273704529 Epoch: 10 Params: [64, 128] [7, 5] [8192, 256, 10]\n",
      "----------------------------------------------------------------------------\n",
      "CPU times: user 4h 57min 41s, sys: 31min 44s, total: 5h 29min 25s\n",
      "Wall time: 43min 17s\n",
      "Max accuracy: 0.6650000214576721 Epoch: 15 Params: [64, 128] [7, 5] [8192, 512, 10]\n",
      "----------------------------------------------------------------------------\n",
      "CPU times: user 2h 23min 46s, sys: 59min 41s, total: 3h 23min 28s\n",
      "Wall time: 27min 27s\n",
      "Max accuracy: 0.708899974822998 Epoch: 16 Params: [64, 128] [5, 3] [8192, 128, 10]\n",
      "----------------------------------------------------------------------------\n",
      "CPU times: user 2h 36min 54s, sys: 55min 59s, total: 3h 32min 53s\n",
      "Wall time: 28min 36s\n",
      "Max accuracy: 0.711899995803833 Epoch: 13 Params: [64, 128] [5, 3] [8192, 256, 10]\n",
      "----------------------------------------------------------------------------\n",
      "CPU times: user 3h 27min 34s, sys: 30min 1s, total: 3h 57min 36s\n",
      "Wall time: 31min 43s\n",
      "Max accuracy: 0.6988999843597412 Epoch: 15 Params: [64, 128] [5, 3] [8192, 512, 10]\n",
      "----------------------------------------------------------------------------\n",
      "CPU times: user 5h 40min 53s, sys: 1h 3min 31s, total: 6h 44min 25s\n",
      "Wall time: 55min 36s\n",
      "Max accuracy: 0.7041000127792358 Epoch: 19 Params: [128, 256] [3, 3] [16384, 128, 10]\n",
      "----------------------------------------------------------------------------\n",
      "CPU times: user 6h 18min 53s, sys: 56min 20s, total: 7h 15min 14s\n",
      "Wall time: 59min 37s\n",
      "Max accuracy: 0.680400013923645 Epoch: 24 Params: [128, 256] [3, 3] [16384, 256, 10]\n",
      "----------------------------------------------------------------------------\n",
      "CPU times: user 7h 26min 33s, sys: 42min 55s, total: 8h 9min 28s\n",
      "Wall time: 1h 6min 49s\n",
      "Max accuracy: 0.6923999786376953 Epoch: 19 Params: [128, 256] [3, 3] [16384, 512, 10]\n",
      "----------------------------------------------------------------------------\n",
      "CPU times: user 10h 40min 30s, sys: 26min 39s, total: 11h 7min 10s\n",
      "Wall time: 1h 35min 58s\n",
      "Max accuracy: 0.7035999894142151 Epoch: 22 Params: [128, 256] [5, 5] [16384, 128, 10]\n",
      "----------------------------------------------------------------------------\n"
     ]
    },
    {
     "name": "stdout",
     "output_type": "stream",
     "text": [
      "CPU times: user 11h 16min 12s, sys: 30min 14s, total: 11h 46min 27s\n",
      "Wall time: 1h 39min 46s\n",
      "Max accuracy: 0.6985999941825867 Epoch: 25 Params: [128, 256] [5, 5] [16384, 256, 10]\n",
      "----------------------------------------------------------------------------\n",
      "CPU times: user 12h 39min 34s, sys: 55min 1s, total: 13h 34min 36s\n",
      "Wall time: 1h 52min 11s\n",
      "Max accuracy: 0.6938999891281128 Epoch: 25 Params: [128, 256] [5, 5] [16384, 512, 10]\n",
      "----------------------------------------------------------------------------\n",
      "CPU times: user 19h 1s, sys: 54min 12s, total: 19h 54min 13s\n",
      "Wall time: 2h 43min 26s\n",
      "Max accuracy: 0.6883999705314636 Epoch: 22 Params: [128, 256] [7, 7] [16384, 128, 10]\n",
      "----------------------------------------------------------------------------\n",
      "CPU times: user 19h 53min 12s, sys: 55min 52s, total: 20h 49min 4s\n",
      "Wall time: 2h 48min 59s\n",
      "Max accuracy: 0.6941999793052673 Epoch: 16 Params: [128, 256] [7, 7] [16384, 256, 10]\n",
      "----------------------------------------------------------------------------\n",
      "CPU times: user 19h 42min 26s, sys: 1h 16min 58s, total: 20h 59min 25s\n",
      "Wall time: 2h 49min 43s\n",
      "Max accuracy: 0.6780999898910522 Epoch: 17 Params: [128, 256] [7, 7] [16384, 512, 10]\n",
      "----------------------------------------------------------------------------\n",
      "CPU times: user 11h 28min 44s, sys: 1h 20min 48s, total: 12h 49min 33s\n",
      "Wall time: 1h 46min 47s\n",
      "Max accuracy: 0.692799985408783 Epoch: 25 Params: [128, 256] [7, 5] [16384, 128, 10]\n",
      "----------------------------------------------------------------------------\n",
      "CPU times: user 11h 18min 43s, sys: 1h 21min 31s, total: 12h 40min 14s\n",
      "Wall time: 1h 46min 15s\n",
      "Max accuracy: 0.6866000294685364 Epoch: 22 Params: [128, 256] [7, 5] [16384, 256, 10]\n",
      "----------------------------------------------------------------------------\n",
      "CPU times: user 12h 1min 55s, sys: 1h 26min 27s, total: 13h 28min 23s\n",
      "Wall time: 1h 53min 4s\n",
      "Max accuracy: 0.6251000165939331 Epoch: 23 Params: [128, 256] [7, 5] [16384, 512, 10]\n",
      "----------------------------------------------------------------------------\n",
      "CPU times: user 6h 23min 53s, sys: 54min 45s, total: 7h 18min 39s\n",
      "Wall time: 59min 3s\n",
      "Max accuracy: 0.6962000131607056 Epoch: 22 Params: [128, 256] [5, 3] [16384, 128, 10]\n",
      "----------------------------------------------------------------------------\n",
      "CPU times: user 6h 34min 32s, sys: 42min 55s, total: 7h 17min 28s\n",
      "Wall time: 59min 55s\n",
      "Max accuracy: 0.7038000226020813 Epoch: 21 Params: [128, 256] [5, 3] [16384, 256, 10]\n",
      "----------------------------------------------------------------------------\n",
      "CPU times: user 7h 3min 30s, sys: 1h 7min 51s, total: 8h 11min 21s\n",
      "Wall time: 1h 7min 23s\n",
      "Max accuracy: 0.6973999738693237 Epoch: 23 Params: [128, 256] [5, 3] [16384, 512, 10]\n",
      "----------------------------------------------------------------------------\n"
     ]
    }
   ],
   "source": [
    "for f in filter_params:\n",
    "    for k in kernel_params:\n",
    "        for fci in range(len(fulcon_params)):\n",
    "            fc = fulcon_params[fci].copy()\n",
    "            cnn = neural_nets.CNN(n_conv_layers=2,\n",
    "                                  filters=f,\n",
    "                                  kernel=k,\n",
    "                                  activation=['relu', 'relu'],\n",
    "                                  norm=[False, False],\n",
    "                                  pool=[2, 2],\n",
    "                                  input_channels=3,\n",
    "                                  fully_connected=fc,\n",
    "                                  input_dims=input_dimensions,\n",
    "                                  classes=target_classes)\n",
    "            cross_entropy = nn.CrossEntropyLoss()\n",
    "            adam = optim.Adam(cnn.parameters(), lr=learning_rate)\n",
    "            %time losses, accuracies = util.train_loop(cnn, cross_entropy, adam, train_loader, test_loader, num_epochs, 0)\n",
    "            \n",
    "            print(\"Max accuracy:\", max(accuracies), \"Epoch:\", np.argmax(accuracies)+1, \"Params:\", f, k, fc)\n",
    "            print(76*\"-\")"
   ]
  }
 ],
 "metadata": {
  "kernelspec": {
   "display_name": "Python 3 (ipykernel)",
   "language": "python",
   "name": "python3"
  },
  "language_info": {
   "codemirror_mode": {
    "name": "ipython",
    "version": 3
   },
   "file_extension": ".py",
   "mimetype": "text/x-python",
   "name": "python",
   "nbconvert_exporter": "python",
   "pygments_lexer": "ipython3",
   "version": "3.8.10"
  }
 },
 "nbformat": 4,
 "nbformat_minor": 5
}
