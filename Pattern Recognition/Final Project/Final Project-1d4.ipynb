{
 "cells": [
  {
   "cell_type": "markdown",
   "id": "e06ccb01",
   "metadata": {},
   "source": [
    "# CIFAR-10 Classification with CNN"
   ]
  },
  {
   "cell_type": "code",
   "execution_count": 1,
   "id": "ea57d7e2",
   "metadata": {
    "scrolled": false
   },
   "outputs": [],
   "source": [
    "import torch\n",
    "import torchvision\n",
    "from torchvision import datasets\n",
    "\n",
    "from torch import nn\n",
    "from torch import optim\n",
    "\n",
    "from torch.utils.data import Dataset, DataLoader\n",
    "from torchvision.transforms import ToTensor\n",
    "\n",
    "import math\n",
    "import numpy as np\n",
    "import matplotlib.pyplot as plt\n",
    "\n",
    "import neural_nets\n",
    "import cnn_utils as util"
   ]
  },
  {
   "cell_type": "code",
   "execution_count": 2,
   "id": "c838810c",
   "metadata": {},
   "outputs": [
    {
     "data": {
      "text/plain": [
       "<torch._C.Generator at 0x7f5f4d6bb7b0>"
      ]
     },
     "execution_count": 2,
     "metadata": {},
     "output_type": "execute_result"
    }
   ],
   "source": [
    "torch.manual_seed(42)"
   ]
  },
  {
   "cell_type": "markdown",
   "id": "c3f04897",
   "metadata": {},
   "source": [
    "## Import Data"
   ]
  },
  {
   "cell_type": "markdown",
   "id": "fe980515",
   "metadata": {},
   "source": [
    "### Download Dataset"
   ]
  },
  {
   "cell_type": "code",
   "execution_count": 3,
   "id": "b7960c76",
   "metadata": {},
   "outputs": [
    {
     "name": "stdout",
     "output_type": "stream",
     "text": [
      "Files already downloaded and verified\n",
      "Files already downloaded and verified\n"
     ]
    }
   ],
   "source": [
    "training_data = datasets.CIFAR10(\n",
    "    root=\"data\",\n",
    "    train=True,\n",
    "    download=True,\n",
    "    transform=ToTensor()\n",
    ")\n",
    "\n",
    "test_data = datasets.CIFAR10(\n",
    "    root=\"data\",\n",
    "    train=False,\n",
    "    download=True,\n",
    "    transform=ToTensor()\n",
    ")"
   ]
  },
  {
   "cell_type": "markdown",
   "id": "d6e23fdc",
   "metadata": {},
   "source": [
    "### Create Loaders"
   ]
  },
  {
   "cell_type": "markdown",
   "id": "ca39f3a7",
   "metadata": {},
   "source": [
    "This step is needed in order to automate the loading of images with set batch size."
   ]
  },
  {
   "cell_type": "code",
   "execution_count": 4,
   "id": "ed09e2fd",
   "metadata": {},
   "outputs": [],
   "source": [
    "batch_size = 256"
   ]
  },
  {
   "cell_type": "code",
   "execution_count": 5,
   "id": "98b43aaa",
   "metadata": {},
   "outputs": [],
   "source": [
    "train_loader = torch.utils.data.DataLoader(dataset=training_data,\n",
    "                                           batch_size=batch_size,\n",
    "                                           shuffle=True)\n",
    "\n",
    "test_loader = torch.utils.data.DataLoader(dataset=test_data,\n",
    "                                          batch_size=batch_size,\n",
    "                                          shuffle=True)"
   ]
  },
  {
   "cell_type": "markdown",
   "id": "482550d1",
   "metadata": {},
   "source": [
    "### Set general parameters"
   ]
  },
  {
   "cell_type": "code",
   "execution_count": 6,
   "id": "63d29027",
   "metadata": {},
   "outputs": [],
   "source": [
    "input_dimensions = (32,32)\n",
    "target_classes = 10"
   ]
  },
  {
   "cell_type": "markdown",
   "id": "0bbe470f",
   "metadata": {},
   "source": [
    "# Model Optimization"
   ]
  },
  {
   "cell_type": "markdown",
   "id": "ddfa163b",
   "metadata": {},
   "source": [
    "### Training hyperparameters"
   ]
  },
  {
   "cell_type": "code",
   "execution_count": 7,
   "id": "42a4b4ca",
   "metadata": {},
   "outputs": [],
   "source": [
    "num_epochs = 25\n",
    "learning_rate = 0.001"
   ]
  },
  {
   "cell_type": "markdown",
   "id": "632331f3",
   "metadata": {},
   "source": [
    "## 4: Fully Connected Layers"
   ]
  },
  {
   "cell_type": "markdown",
   "id": "66d65678",
   "metadata": {},
   "source": [
    "Having tested multiple architectures for the convolutional layers, the effect of multiple fully connected layers will be tested."
   ]
  },
  {
   "cell_type": "code",
   "execution_count": 8,
   "id": "b2023ea3",
   "metadata": {},
   "outputs": [],
   "source": [
    "fulcon_params = [[32, 64], [64, 64], [64, 128], [128, 128], [32, 64, 128], [64, 128, 256], [64, 64, 128]]"
   ]
  },
  {
   "cell_type": "markdown",
   "id": "b5b4216b",
   "metadata": {},
   "source": [
    "#### Training"
   ]
  },
  {
   "cell_type": "code",
   "execution_count": 9,
   "id": "05d29be1",
   "metadata": {
    "scrolled": false
   },
   "outputs": [
    {
     "name": "stdout",
     "output_type": "stream",
     "text": [
      "CPU times: user 10h 34min 8s, sys: 1h 11min 19s, total: 11h 45min 27s\n",
      "Wall time: 1h 30min 56s\n",
      "Max accuracy: 0.7939000129699707 Epoch: 22 FC Params: [4096, 32, 64, 10]\n",
      "----------------------------------------------------------------------------\n",
      "CPU times: user 9h 21min 4s, sys: 1h 13min 36s, total: 10h 34min 40s\n",
      "Wall time: 1h 25min 35s\n",
      "Max accuracy: 0.7878000140190125 Epoch: 11 FC Params: [4096, 64, 64, 10]\n",
      "----------------------------------------------------------------------------\n",
      "CPU times: user 8h 50min 19s, sys: 1h 7min 26s, total: 9h 57min 45s\n",
      "Wall time: 1h 22min 25s\n",
      "Max accuracy: 0.7843999862670898 Epoch: 19 FC Params: [4096, 64, 128, 10]\n",
      "----------------------------------------------------------------------------\n",
      "CPU times: user 8h 58min 17s, sys: 1h 8min 51s, total: 10h 7min 8s\n",
      "Wall time: 1h 22min 49s\n",
      "Max accuracy: 0.7524999976158142 Epoch: 14 FC Params: [4096, 128, 128, 10]\n",
      "----------------------------------------------------------------------------\n",
      "CPU times: user 10h 7min 17s, sys: 1h 27min 10s, total: 11h 34min 27s\n",
      "Wall time: 1h 28min 59s\n",
      "Max accuracy: 0.7832000255584717 Epoch: 16 FC Params: [4096, 32, 64, 128, 10]\n",
      "----------------------------------------------------------------------------\n",
      "CPU times: user 10h 2min 40s, sys: 1h 24min, total: 11h 26min 41s\n",
      "Wall time: 1h 28min 11s\n",
      "Max accuracy: 0.7694000005722046 Epoch: 12 FC Params: [4096, 64, 128, 256, 10]\n",
      "----------------------------------------------------------------------------\n",
      "CPU times: user 10h 11min 34s, sys: 1h 11min 48s, total: 11h 23min 22s\n",
      "Wall time: 1h 28min 51s\n",
      "Max accuracy: 0.7534000277519226 Epoch: 12 FC Params: [4096, 64, 64, 128, 10]\n",
      "----------------------------------------------------------------------------\n"
     ]
    }
   ],
   "source": [
    "for fci in range(len(fulcon_params)):\n",
    "    fc = fulcon_params[fci].copy()\n",
    "    cnn = neural_nets.CNN(n_conv_layers=6,\n",
    "                          filters=[64, 64, 128, 128, 256, 256],\n",
    "                          kernel=[3, 3, 3, 3, 3, 3],\n",
    "                          activation=['relu', 'relu', 'relu', 'relu', 'relu', 'relu'],\n",
    "                          norm=[False, False, False, False, False, False],\n",
    "                          pool=[0, 2, 0, 2, 0, 2],\n",
    "                          input_channels=3,\n",
    "                          fully_connected=fc,\n",
    "                          input_dims=input_dimensions,\n",
    "                          classes=target_classes)\n",
    "    cross_entropy = nn.CrossEntropyLoss()\n",
    "    adam = optim.Adam(cnn.parameters(), lr=learning_rate)\n",
    "    %time losses, accuracies = util.train_loop(cnn, cross_entropy, adam, train_loader, test_loader, num_epochs, 0)\n",
    "\n",
    "    print(\"Max accuracy:\", max(accuracies), \"Epoch:\", np.argmax(accuracies)+1, \"FC Params:\", fc)\n",
    "    print(76*\"-\")"
   ]
  }
 ],
 "metadata": {
  "kernelspec": {
   "display_name": "Python 3 (ipykernel)",
   "language": "python",
   "name": "python3"
  },
  "language_info": {
   "codemirror_mode": {
    "name": "ipython",
    "version": 3
   },
   "file_extension": ".py",
   "mimetype": "text/x-python",
   "name": "python",
   "nbconvert_exporter": "python",
   "pygments_lexer": "ipython3",
   "version": "3.8.10"
  }
 },
 "nbformat": 4,
 "nbformat_minor": 5
}
