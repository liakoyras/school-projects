{
 "cells": [
  {
   "cell_type": "markdown",
   "id": "e06ccb01",
   "metadata": {},
   "source": [
    "# CIFAR-10 Classification with CNN"
   ]
  },
  {
   "cell_type": "code",
   "execution_count": 11,
   "id": "ea57d7e2",
   "metadata": {},
   "outputs": [],
   "source": [
    "import torch\n",
    "import torchvision\n",
    "from torchvision import datasets\n",
    "\n",
    "from torch import nn\n",
    "from torch.utils.data import Dataset, DataLoader\n",
    "from torchvision.transforms import ToTensor\n",
    "\n",
    "import math\n",
    "\n",
    "import neural_nets"
   ]
  },
  {
   "cell_type": "markdown",
   "id": "c525dddc",
   "metadata": {},
   "source": [
    "Check if Pytorch works with CUDA."
   ]
  },
  {
   "cell_type": "code",
   "execution_count": 2,
   "id": "77e27d2f",
   "metadata": {
    "scrolled": false
   },
   "outputs": [
    {
     "name": "stdout",
     "output_type": "stream",
     "text": [
      "True\n",
      "True\n",
      "8005\n",
      "11.0\n",
      "1\n"
     ]
    }
   ],
   "source": [
    "print(torch.cuda.is_available())\n",
    "print(torch.backends.cudnn.enabled)\n",
    "print(torch.backends.cudnn.version())\n",
    "print(torch.version.cuda)\n",
    "print(torch.cuda.device_count())"
   ]
  },
  {
   "cell_type": "markdown",
   "id": "c3f04897",
   "metadata": {},
   "source": [
    "## Import Data"
   ]
  },
  {
   "cell_type": "markdown",
   "id": "fe980515",
   "metadata": {},
   "source": [
    "### Download Dataset"
   ]
  },
  {
   "cell_type": "code",
   "execution_count": 3,
   "id": "b7960c76",
   "metadata": {},
   "outputs": [
    {
     "name": "stdout",
     "output_type": "stream",
     "text": [
      "Files already downloaded and verified\n",
      "Files already downloaded and verified\n"
     ]
    }
   ],
   "source": [
    "training_data = datasets.CIFAR10(\n",
    "    root=\"data\",\n",
    "    train=True,\n",
    "    download=True,\n",
    "    transform=ToTensor()\n",
    ")\n",
    "\n",
    "test_data = datasets.CIFAR10(\n",
    "    root=\"data\",\n",
    "    train=False,\n",
    "    download=True,\n",
    "    transform=ToTensor()\n",
    ")"
   ]
  },
  {
   "cell_type": "markdown",
   "id": "d6e23fdc",
   "metadata": {},
   "source": [
    "### Create Loaders"
   ]
  },
  {
   "cell_type": "markdown",
   "id": "ca39f3a7",
   "metadata": {},
   "source": [
    "This step is needed in order to automate the loading of images with set batch size."
   ]
  },
  {
   "cell_type": "code",
   "execution_count": 4,
   "id": "ed09e2fd",
   "metadata": {},
   "outputs": [],
   "source": [
    "batch_size = 128"
   ]
  },
  {
   "cell_type": "code",
   "execution_count": 5,
   "id": "98b43aaa",
   "metadata": {},
   "outputs": [],
   "source": [
    "train_loader = torch.utils.data.DataLoader(dataset=training_data,\n",
    "                                           batch_size=batch_size,\n",
    "                                           shuffle=True)\n",
    "\n",
    "test_loader = torch.utils.data.DataLoader(dataset=test_data,\n",
    "                                          batch_size=batch_size,\n",
    "                                          shuffle=True)"
   ]
  },
  {
   "cell_type": "markdown",
   "id": "0a2f3ffe",
   "metadata": {},
   "source": [
    "### Set general parameters"
   ]
  },
  {
   "cell_type": "code",
   "execution_count": 6,
   "id": "ea8fb5c9",
   "metadata": {},
   "outputs": [],
   "source": [
    "input_dimensions = (32,32)\n",
    "target_classes = 10"
   ]
  },
  {
   "cell_type": "markdown",
   "id": "772cb764",
   "metadata": {},
   "source": [
    "## Simpe 2-layer CNN"
   ]
  },
  {
   "cell_type": "code",
   "execution_count": 8,
   "id": "f5cdefd7",
   "metadata": {
    "scrolled": false
   },
   "outputs": [],
   "source": [
    "cnn1 = neural_nets.CNN(n_conv_layers=2,\n",
    "                       filters=[32, 64],\n",
    "                       kernel=[3, 3],\n",
    "                       activation=['relu', 'relu'],\n",
    "                       norm=[False, False],\n",
    "                       pool=[2, 2],\n",
    "                       input_channels=3,\n",
    "                       fully_connected=[128],\n",
    "                       input_dims=input_dimensions,\n",
    "                       classes=target_classes)"
   ]
  },
  {
   "cell_type": "markdown",
   "id": "83fe35f5",
   "metadata": {},
   "source": [
    "Let's view the network architecture created by the class and the number of parameters that need to be learned:"
   ]
  },
  {
   "cell_type": "code",
   "execution_count": 9,
   "id": "8f7c3921",
   "metadata": {
    "scrolled": false
   },
   "outputs": [
    {
     "name": "stdout",
     "output_type": "stream",
     "text": [
      "CNN(\n",
      "  (conv_layers): ModuleList(\n",
      "    (0): Sequential(\n",
      "      (0): Conv2d(3, 32, kernel_size=(3, 3), stride=(1, 1), padding=same)\n",
      "      (1): ReLU()\n",
      "      (2): MaxPool2d(kernel_size=2, stride=2, padding=0, dilation=1, ceil_mode=False)\n",
      "    )\n",
      "    (1): Sequential(\n",
      "      (0): Conv2d(32, 64, kernel_size=(3, 3), stride=(1, 1), padding=same)\n",
      "      (1): ReLU()\n",
      "      (2): MaxPool2d(kernel_size=2, stride=2, padding=0, dilation=1, ceil_mode=False)\n",
      "    )\n",
      "  )\n",
      "  (flatten): Flatten(start_dim=1, end_dim=-1)\n",
      "  (fc_layers): ModuleList(\n",
      "    (0): Linear(in_features=4096, out_features=128, bias=True)\n",
      "    (1): Linear(in_features=128, out_features=10, bias=True)\n",
      "  )\n",
      ")\n"
     ]
    }
   ],
   "source": [
    "print(cnn1)"
   ]
  },
  {
   "cell_type": "code",
   "execution_count": 21,
   "id": "8128ca90",
   "metadata": {
    "scrolled": true
   },
   "outputs": [
    {
     "name": "stdout",
     "output_type": "stream",
     "text": [
      "The number of learnable parameter sets is: 8\n",
      "\n",
      "torch.Size([32, 3, 3, 3])\n",
      "torch.Size([32])\n",
      "torch.Size([64, 32, 3, 3])\n",
      "torch.Size([64])\n",
      "torch.Size([128, 4096])\n",
      "torch.Size([128])\n",
      "torch.Size([10, 128])\n",
      "torch.Size([10])\n",
      "\n",
      "Total number of parameters: 545098\n"
     ]
    }
   ],
   "source": [
    "params = list(cnn1.parameters())\n",
    "print(\"The number of learnable parameter sets is:\", len(params))\n",
    "print()\n",
    "\n",
    "total_params = 0\n",
    "for p in params:\n",
    "    print(p.size())\n",
    "    total_params += math.prod(list(p.size()))\n",
    "    \n",
    "\n",
    "print()\n",
    "print(\"Total number of parameters:\", total_params)"
   ]
  },
  {
   "cell_type": "markdown",
   "id": "14542d88",
   "metadata": {},
   "source": [
    "We can observe that the fully connected layers add a significant number of parameters that need to be trained."
   ]
  },
  {
   "cell_type": "code",
   "execution_count": null,
   "id": "4e893182",
   "metadata": {},
   "outputs": [],
   "source": []
  }
 ],
 "metadata": {
  "kernelspec": {
   "display_name": "Python 3 (ipykernel)",
   "language": "python",
   "name": "python3"
  },
  "language_info": {
   "codemirror_mode": {
    "name": "ipython",
    "version": 3
   },
   "file_extension": ".py",
   "mimetype": "text/x-python",
   "name": "python",
   "nbconvert_exporter": "python",
   "pygments_lexer": "ipython3",
   "version": "3.8.10"
  }
 },
 "nbformat": 4,
 "nbformat_minor": 5
}
