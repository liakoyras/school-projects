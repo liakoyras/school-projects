{
 "cells": [
  {
   "cell_type": "markdown",
   "id": "e06ccb01",
   "metadata": {},
   "source": [
    "# CIFAR-10 Classification with CNN"
   ]
  },
  {
   "cell_type": "code",
   "execution_count": 1,
   "id": "ea57d7e2",
   "metadata": {
    "scrolled": false
   },
   "outputs": [],
   "source": [
    "import torch\n",
    "import torchvision\n",
    "from torchvision import datasets\n",
    "\n",
    "from torch import nn\n",
    "from torch import optim\n",
    "\n",
    "from torch.utils.data import Dataset, DataLoader\n",
    "from torchvision.transforms import ToTensor\n",
    "\n",
    "import math\n",
    "import matplotlib.pyplot as plt\n",
    "\n",
    "import neural_nets\n",
    "import cnn_utils as util"
   ]
  },
  {
   "cell_type": "code",
   "execution_count": 2,
   "id": "c838810c",
   "metadata": {},
   "outputs": [
    {
     "data": {
      "text/plain": [
       "<torch._C.Generator at 0x7f6e3420b7b0>"
      ]
     },
     "execution_count": 2,
     "metadata": {},
     "output_type": "execute_result"
    }
   ],
   "source": [
    "torch.manual_seed(42)"
   ]
  },
  {
   "cell_type": "markdown",
   "id": "c3f04897",
   "metadata": {},
   "source": [
    "## Import Data"
   ]
  },
  {
   "cell_type": "markdown",
   "id": "fe980515",
   "metadata": {},
   "source": [
    "### Download Dataset"
   ]
  },
  {
   "cell_type": "code",
   "execution_count": 3,
   "id": "b7960c76",
   "metadata": {},
   "outputs": [
    {
     "name": "stdout",
     "output_type": "stream",
     "text": [
      "Files already downloaded and verified\n",
      "Files already downloaded and verified\n"
     ]
    }
   ],
   "source": [
    "training_data = datasets.CIFAR10(\n",
    "    root=\"data\",\n",
    "    train=True,\n",
    "    download=True,\n",
    "    transform=ToTensor()\n",
    ")\n",
    "\n",
    "test_data = datasets.CIFAR10(\n",
    "    root=\"data\",\n",
    "    train=False,\n",
    "    download=True,\n",
    "    transform=ToTensor()\n",
    ")"
   ]
  },
  {
   "cell_type": "markdown",
   "id": "d6e23fdc",
   "metadata": {},
   "source": [
    "### Create Loaders"
   ]
  },
  {
   "cell_type": "markdown",
   "id": "ca39f3a7",
   "metadata": {},
   "source": [
    "This step is needed in order to automate the loading of images with set batch size."
   ]
  },
  {
   "cell_type": "code",
   "execution_count": 4,
   "id": "ed09e2fd",
   "metadata": {},
   "outputs": [],
   "source": [
    "batch_size = 256"
   ]
  },
  {
   "cell_type": "code",
   "execution_count": 5,
   "id": "98b43aaa",
   "metadata": {},
   "outputs": [],
   "source": [
    "train_loader = torch.utils.data.DataLoader(dataset=training_data,\n",
    "                                           batch_size=batch_size,\n",
    "                                           shuffle=True)\n",
    "\n",
    "test_loader = torch.utils.data.DataLoader(dataset=test_data,\n",
    "                                          batch_size=batch_size,\n",
    "                                          shuffle=True)"
   ]
  },
  {
   "cell_type": "markdown",
   "id": "482550d1",
   "metadata": {},
   "source": [
    "### Set general parameters"
   ]
  },
  {
   "cell_type": "code",
   "execution_count": 6,
   "id": "63d29027",
   "metadata": {},
   "outputs": [],
   "source": [
    "input_dimensions = (32,32)\n",
    "target_classes = 10"
   ]
  },
  {
   "cell_type": "markdown",
   "id": "772cb764",
   "metadata": {},
   "source": [
    "## Simpe 2-layer CNN"
   ]
  },
  {
   "cell_type": "code",
   "execution_count": 7,
   "id": "f5cdefd7",
   "metadata": {
    "scrolled": false
   },
   "outputs": [],
   "source": [
    "cnn = neural_nets.CNN(n_conv_layers=2,\n",
    "                      filters=[32, 64],\n",
    "                      kernel=[3, 3],\n",
    "                      activation=['relu', 'relu'],\n",
    "                      norm=[False, False],\n",
    "                      pool=[2, 2],\n",
    "                      input_channels=3,\n",
    "                      fully_connected=[128],\n",
    "                      input_dims=input_dimensions,\n",
    "                      classes=target_classes)"
   ]
  },
  {
   "cell_type": "markdown",
   "id": "4a7d4f9f",
   "metadata": {},
   "source": [
    "Let's view the network architecture created by the class and the number of parameters that need to be learned:"
   ]
  },
  {
   "cell_type": "code",
   "execution_count": 8,
   "id": "8f7c3921",
   "metadata": {
    "scrolled": false
   },
   "outputs": [
    {
     "name": "stdout",
     "output_type": "stream",
     "text": [
      "CNN(\n",
      "  (conv_layers): ModuleList(\n",
      "    (0): Sequential(\n",
      "      (0): Conv2d(3, 32, kernel_size=(3, 3), stride=(1, 1), padding=same)\n",
      "      (1): ReLU()\n",
      "      (2): MaxPool2d(kernel_size=2, stride=2, padding=0, dilation=1, ceil_mode=False)\n",
      "    )\n",
      "    (1): Sequential(\n",
      "      (0): Conv2d(32, 64, kernel_size=(3, 3), stride=(1, 1), padding=same)\n",
      "      (1): ReLU()\n",
      "      (2): MaxPool2d(kernel_size=2, stride=2, padding=0, dilation=1, ceil_mode=False)\n",
      "    )\n",
      "  )\n",
      "  (flatten): Flatten(start_dim=1, end_dim=-1)\n",
      "  (fc_layers): ModuleList(\n",
      "    (0): Linear(in_features=4096, out_features=128, bias=True)\n",
      "    (1): Linear(in_features=128, out_features=10, bias=True)\n",
      "  )\n",
      ")\n"
     ]
    }
   ],
   "source": [
    "print(cnn)"
   ]
  },
  {
   "cell_type": "code",
   "execution_count": 9,
   "id": "c22536aa",
   "metadata": {
    "scrolled": true
   },
   "outputs": [
    {
     "name": "stdout",
     "output_type": "stream",
     "text": [
      "The number of learnable parameter sets is: 8\n",
      "\n",
      "torch.Size([32, 3, 3, 3])\n",
      "torch.Size([32])\n",
      "torch.Size([64, 32, 3, 3])\n",
      "torch.Size([64])\n",
      "torch.Size([128, 4096])\n",
      "torch.Size([128])\n",
      "torch.Size([10, 128])\n",
      "torch.Size([10])\n",
      "\n",
      "Total number of parameters: 545098\n"
     ]
    }
   ],
   "source": [
    "params = list(cnn.parameters())\n",
    "print(\"The number of learnable parameter sets is:\", len(params))\n",
    "print()\n",
    "\n",
    "total_params = 0\n",
    "for p in params:\n",
    "    print(p.size())\n",
    "    total_params += math.prod(list(p.size()))\n",
    "    \n",
    "\n",
    "print()\n",
    "print(\"Total number of parameters:\", total_params)"
   ]
  },
  {
   "cell_type": "markdown",
   "id": "80e4655a",
   "metadata": {},
   "source": [
    "We can observe that the fully connected layers add a significant number of parameters that need to be trained."
   ]
  },
  {
   "cell_type": "markdown",
   "id": "fd70125f",
   "metadata": {},
   "source": [
    "### Train Network"
   ]
  },
  {
   "cell_type": "markdown",
   "id": "51f2839c",
   "metadata": {},
   "source": [
    "For a baseline, a simple 2-layer version can be created in order to compare it to other configurations."
   ]
  },
  {
   "cell_type": "markdown",
   "id": "bc4b4274",
   "metadata": {},
   "source": [
    "First, we need to define the training hyperparameters, along with a loss function and an optimizer."
   ]
  },
  {
   "cell_type": "code",
   "execution_count": 10,
   "id": "3df124b8",
   "metadata": {},
   "outputs": [],
   "source": [
    "num_epochs = 50\n",
    "learning_rate = 0.001"
   ]
  },
  {
   "cell_type": "code",
   "execution_count": 11,
   "id": "fb7f3711",
   "metadata": {},
   "outputs": [],
   "source": [
    "cross_entropy = nn.CrossEntropyLoss()\n",
    "adam = optim.Adam(cnn.parameters(), lr=learning_rate)"
   ]
  },
  {
   "cell_type": "markdown",
   "id": "29a9f44e",
   "metadata": {},
   "source": [
    "Initial experiments with varying batch size and learning rate showed that those hyperparameters did not significantly affect test accuracy while having an effect on training times, so the combination that resulted in the least training time was chosen.\n",
    "\n",
    "On the other hand, the number of epochs was chosen to be 50 since by this point the accuracy has peaked and is either plateauing or declining."
   ]
  },
  {
   "cell_type": "markdown",
   "id": "aa995e34",
   "metadata": {},
   "source": [
    "Finally, we run the training loop for the amount of epochs specified and plot the training loss and test accuracy after each epoch."
   ]
  },
  {
   "cell_type": "code",
   "execution_count": 12,
   "id": "c8ede6e1",
   "metadata": {
    "scrolled": true
   },
   "outputs": [
    {
     "name": "stdout",
     "output_type": "stream",
     "text": [
      "Epoch: 1/50, Loss: 1.4451\n",
      "Epoch: 1/50, Test Acc.: 53.58%\n",
      "Epoch: 2/50, Loss: 1.0125\n",
      "Epoch: 2/50, Test Acc.: 61.11%\n",
      "Epoch: 3/50, Loss: 0.7954\n",
      "Epoch: 3/50, Test Acc.: 65.74%\n",
      "Epoch: 4/50, Loss: 0.8902\n",
      "Epoch: 4/50, Test Acc.: 66.79%\n",
      "Epoch: 5/50, Loss: 0.9099\n",
      "Epoch: 5/50, Test Acc.: 67.68%\n",
      "Epoch: 6/50, Loss: 0.8540\n",
      "Epoch: 6/50, Test Acc.: 68.54%\n",
      "Epoch: 7/50, Loss: 0.9330\n",
      "Epoch: 7/50, Test Acc.: 68.71%\n",
      "Epoch: 8/50, Loss: 0.8401\n",
      "Epoch: 8/50, Test Acc.: 70.66%\n",
      "Epoch: 9/50, Loss: 0.8702\n",
      "Epoch: 9/50, Test Acc.: 69.33%\n",
      "Epoch: 10/50, Loss: 0.8982\n",
      "Epoch: 10/50, Test Acc.: 70.28%\n",
      "Epoch: 11/50, Loss: 0.5713\n",
      "Epoch: 11/50, Test Acc.: 70.63%\n",
      "Epoch: 12/50, Loss: 0.5614\n",
      "Epoch: 12/50, Test Acc.: 69.27%\n",
      "Epoch: 13/50, Loss: 0.6797\n",
      "Epoch: 13/50, Test Acc.: 70.37%\n",
      "Epoch: 14/50, Loss: 0.7613\n",
      "Epoch: 14/50, Test Acc.: 69.07%\n",
      "Epoch: 15/50, Loss: 0.5861\n",
      "Epoch: 15/50, Test Acc.: 70.61%\n",
      "Epoch: 16/50, Loss: 0.5283\n",
      "Epoch: 16/50, Test Acc.: 70.95%\n",
      "Epoch: 17/50, Loss: 0.6574\n",
      "Epoch: 17/50, Test Acc.: 71.26%\n",
      "Epoch: 18/50, Loss: 0.6030\n",
      "Epoch: 18/50, Test Acc.: 70.53%\n",
      "Epoch: 19/50, Loss: 0.5716\n",
      "Epoch: 19/50, Test Acc.: 70.59%\n",
      "Epoch: 20/50, Loss: 0.4680\n",
      "Epoch: 20/50, Test Acc.: 69.45%\n",
      "Epoch: 21/50, Loss: 0.4773\n",
      "Epoch: 21/50, Test Acc.: 70.55%\n",
      "Epoch: 22/50, Loss: 0.5042\n",
      "Epoch: 22/50, Test Acc.: 70.39%\n",
      "Epoch: 23/50, Loss: 0.4711\n",
      "Epoch: 23/50, Test Acc.: 70.19%\n",
      "Epoch: 24/50, Loss: 0.2678\n",
      "Epoch: 24/50, Test Acc.: 70.30%\n",
      "Epoch: 25/50, Loss: 0.3445\n",
      "Epoch: 25/50, Test Acc.: 69.54%\n",
      "Epoch: 26/50, Loss: 0.4540\n",
      "Epoch: 26/50, Test Acc.: 70.15%\n",
      "Epoch: 27/50, Loss: 0.5527\n",
      "Epoch: 27/50, Test Acc.: 70.05%\n",
      "Epoch: 28/50, Loss: 0.2688\n",
      "Epoch: 28/50, Test Acc.: 69.15%\n",
      "Epoch: 29/50, Loss: 0.3442\n",
      "Epoch: 29/50, Test Acc.: 69.19%\n",
      "Epoch: 30/50, Loss: 0.4466\n",
      "Epoch: 30/50, Test Acc.: 69.01%\n",
      "Epoch: 31/50, Loss: 0.3260\n",
      "Epoch: 31/50, Test Acc.: 69.47%\n",
      "Epoch: 32/50, Loss: 0.2052\n",
      "Epoch: 32/50, Test Acc.: 69.71%\n",
      "Epoch: 33/50, Loss: 0.2675\n",
      "Epoch: 33/50, Test Acc.: 69.82%\n",
      "Epoch: 34/50, Loss: 0.3370\n",
      "Epoch: 34/50, Test Acc.: 69.08%\n",
      "Epoch: 35/50, Loss: 0.3342\n",
      "Epoch: 35/50, Test Acc.: 68.64%\n",
      "Epoch: 36/50, Loss: 0.2656\n",
      "Epoch: 36/50, Test Acc.: 68.48%\n",
      "Epoch: 37/50, Loss: 0.4734\n",
      "Epoch: 37/50, Test Acc.: 69.13%\n",
      "Epoch: 38/50, Loss: 0.3420\n",
      "Epoch: 38/50, Test Acc.: 68.45%\n",
      "Epoch: 39/50, Loss: 0.2807\n",
      "Epoch: 39/50, Test Acc.: 68.71%\n",
      "Epoch: 40/50, Loss: 0.2911\n",
      "Epoch: 40/50, Test Acc.: 68.31%\n",
      "Epoch: 41/50, Loss: 0.2426\n",
      "Epoch: 41/50, Test Acc.: 69.15%\n",
      "Epoch: 42/50, Loss: 0.3224\n",
      "Epoch: 42/50, Test Acc.: 67.60%\n",
      "Epoch: 43/50, Loss: 0.2176\n",
      "Epoch: 43/50, Test Acc.: 68.28%\n",
      "Epoch: 44/50, Loss: 0.3412\n",
      "Epoch: 44/50, Test Acc.: 68.21%\n",
      "Epoch: 45/50, Loss: 0.1609\n",
      "Epoch: 45/50, Test Acc.: 68.70%\n",
      "Epoch: 46/50, Loss: 0.2147\n",
      "Epoch: 46/50, Test Acc.: 68.67%\n",
      "Epoch: 47/50, Loss: 0.2290\n",
      "Epoch: 47/50, Test Acc.: 68.63%\n",
      "Epoch: 48/50, Loss: 0.3438\n",
      "Epoch: 48/50, Test Acc.: 68.19%\n",
      "Epoch: 49/50, Loss: 0.1570\n",
      "Epoch: 49/50, Test Acc.: 67.34%\n",
      "Epoch: 50/50, Loss: 0.2245\n",
      "Epoch: 50/50, Test Acc.: 68.45%\n"
     ]
    }
   ],
   "source": [
    "losses, accuracies = util.train_loop(model=cnn,\n",
    "                                     loss_fn=cross_entropy,\n",
    "                                     optimizer=adam,\n",
    "                                     train_loader=train_loader,\n",
    "                                     test_loader=test_loader,\n",
    "                                     epochs=num_epochs,\n",
    "                                     verbose=1)"
   ]
  },
  {
   "cell_type": "code",
   "execution_count": 13,
   "id": "4ae902aa",
   "metadata": {
    "scrolled": false
   },
   "outputs": [
    {
     "data": {
      "image/png": "[encoded data removed]",
      "text/plain": [
       "<Figure size 720x432 with 2 Axes>"
      ]
     },
     "metadata": {
      "needs_background": "light"
     },
     "output_type": "display_data"
    }
   ],
   "source": [
    "util.plot_loss(losses, accuracies)"
   ]
  },
  {
   "cell_type": "markdown",
   "id": "98253ad8",
   "metadata": {},
   "source": [
    "### Add Batch Normalization"
   ]
  },
  {
   "cell_type": "markdown",
   "id": "16600903",
   "metadata": {},
   "source": [
    "For the next experiment, batch normalization layers will be added after each convolutional layer."
   ]
  },
  {
   "cell_type": "code",
   "execution_count": 14,
   "id": "da9ce026",
   "metadata": {},
   "outputs": [],
   "source": [
    "cnn_bn = neural_nets.CNN(n_conv_layers=2,\n",
    "                         filters=[32, 64],\n",
    "                         kernel=[3, 3],\n",
    "                         activation=['relu', 'relu'],\n",
    "                         norm=[True, True],\n",
    "                         pool=[2, 2],\n",
    "                         input_channels=3,\n",
    "                         fully_connected=[128],\n",
    "                         input_dims=input_dimensions,\n",
    "                         classes=target_classes)"
   ]
  },
  {
   "cell_type": "code",
   "execution_count": 15,
   "id": "b691965c",
   "metadata": {},
   "outputs": [
    {
     "name": "stdout",
     "output_type": "stream",
     "text": [
      "CNN(\n",
      "  (conv_layers): ModuleList(\n",
      "    (0): Sequential(\n",
      "      (0): Conv2d(3, 32, kernel_size=(3, 3), stride=(1, 1), padding=same)\n",
      "      (1): BatchNorm2d(32, eps=1e-05, momentum=0.1, affine=True, track_running_stats=True)\n",
      "      (2): ReLU()\n",
      "      (3): MaxPool2d(kernel_size=2, stride=2, padding=0, dilation=1, ceil_mode=False)\n",
      "    )\n",
      "    (1): Sequential(\n",
      "      (0): Conv2d(32, 64, kernel_size=(3, 3), stride=(1, 1), padding=same)\n",
      "      (1): BatchNorm2d(64, eps=1e-05, momentum=0.1, affine=True, track_running_stats=True)\n",
      "      (2): ReLU()\n",
      "      (3): MaxPool2d(kernel_size=2, stride=2, padding=0, dilation=1, ceil_mode=False)\n",
      "    )\n",
      "  )\n",
      "  (flatten): Flatten(start_dim=1, end_dim=-1)\n",
      "  (fc_layers): ModuleList(\n",
      "    (0): Linear(in_features=4096, out_features=128, bias=True)\n",
      "    (1): Linear(in_features=128, out_features=10, bias=True)\n",
      "  )\n",
      ")\n"
     ]
    }
   ],
   "source": [
    "print(cnn_bn)"
   ]
  },
  {
   "cell_type": "code",
   "execution_count": 16,
   "id": "dc8eec84",
   "metadata": {},
   "outputs": [],
   "source": [
    "cross_entropy = nn.CrossEntropyLoss()\n",
    "adam = optim.Adam(cnn_bn.parameters(), lr=learning_rate)"
   ]
  },
  {
   "cell_type": "code",
   "execution_count": 17,
   "id": "4f3d846f",
   "metadata": {
    "scrolled": true
   },
   "outputs": [
    {
     "name": "stdout",
     "output_type": "stream",
     "text": [
      "Epoch: 1/50, Loss: 1.0932\n",
      "Epoch: 1/50, Test Acc.: 49.48%\n",
      "Epoch: 2/50, Loss: 1.0299\n",
      "Epoch: 2/50, Test Acc.: 62.05%\n",
      "Epoch: 3/50, Loss: 0.9312\n",
      "Epoch: 3/50, Test Acc.: 62.99%\n",
      "Epoch: 4/50, Loss: 0.7255\n",
      "Epoch: 4/50, Test Acc.: 61.42%\n",
      "Epoch: 5/50, Loss: 0.6799\n",
      "Epoch: 5/50, Test Acc.: 64.66%\n",
      "Epoch: 6/50, Loss: 0.5759\n",
      "Epoch: 6/50, Test Acc.: 66.74%\n",
      "Epoch: 7/50, Loss: 0.8606\n",
      "Epoch: 7/50, Test Acc.: 70.11%\n",
      "Epoch: 8/50, Loss: 0.5443\n",
      "Epoch: 8/50, Test Acc.: 66.81%\n",
      "Epoch: 9/50, Loss: 0.7089\n",
      "Epoch: 9/50, Test Acc.: 64.42%\n",
      "Epoch: 10/50, Loss: 0.6491\n",
      "Epoch: 10/50, Test Acc.: 66.49%\n",
      "Epoch: 11/50, Loss: 0.5610\n",
      "Epoch: 11/50, Test Acc.: 70.38%\n",
      "Epoch: 12/50, Loss: 0.4714\n",
      "Epoch: 12/50, Test Acc.: 70.86%\n",
      "Epoch: 13/50, Loss: 0.6271\n",
      "Epoch: 13/50, Test Acc.: 68.86%\n",
      "Epoch: 14/50, Loss: 0.6088\n",
      "Epoch: 14/50, Test Acc.: 69.64%\n",
      "Epoch: 15/50, Loss: 0.6047\n",
      "Epoch: 15/50, Test Acc.: 70.55%\n",
      "Epoch: 16/50, Loss: 0.8920\n",
      "Epoch: 16/50, Test Acc.: 70.91%\n",
      "Epoch: 17/50, Loss: 0.6417\n",
      "Epoch: 17/50, Test Acc.: 69.27%\n",
      "Epoch: 18/50, Loss: 0.4114\n",
      "Epoch: 18/50, Test Acc.: 71.31%\n",
      "Epoch: 19/50, Loss: 0.4393\n",
      "Epoch: 19/50, Test Acc.: 69.55%\n",
      "Epoch: 20/50, Loss: 0.7034\n",
      "Epoch: 20/50, Test Acc.: 67.48%\n",
      "Epoch: 21/50, Loss: 0.5628\n",
      "Epoch: 21/50, Test Acc.: 69.49%\n",
      "Epoch: 22/50, Loss: 0.3456\n",
      "Epoch: 22/50, Test Acc.: 68.01%\n",
      "Epoch: 23/50, Loss: 0.5224\n",
      "Epoch: 23/50, Test Acc.: 68.44%\n",
      "Epoch: 24/50, Loss: 0.3412\n",
      "Epoch: 24/50, Test Acc.: 70.21%\n",
      "Epoch: 25/50, Loss: 0.2344\n",
      "Epoch: 25/50, Test Acc.: 71.62%\n",
      "Epoch: 26/50, Loss: 0.2819\n",
      "Epoch: 26/50, Test Acc.: 71.94%\n",
      "Epoch: 27/50, Loss: 0.4586\n",
      "Epoch: 27/50, Test Acc.: 67.75%\n",
      "Epoch: 28/50, Loss: 0.2342\n",
      "Epoch: 28/50, Test Acc.: 68.44%\n",
      "Epoch: 29/50, Loss: 0.3160\n",
      "Epoch: 29/50, Test Acc.: 70.21%\n",
      "Epoch: 30/50, Loss: 0.2046\n",
      "Epoch: 30/50, Test Acc.: 69.33%\n",
      "Epoch: 31/50, Loss: 0.3502\n",
      "Epoch: 31/50, Test Acc.: 69.39%\n",
      "Epoch: 32/50, Loss: 0.2472\n",
      "Epoch: 32/50, Test Acc.: 69.63%\n",
      "Epoch: 33/50, Loss: 0.2697\n",
      "Epoch: 33/50, Test Acc.: 68.40%\n",
      "Epoch: 34/50, Loss: 0.2807\n",
      "Epoch: 34/50, Test Acc.: 71.18%\n",
      "Epoch: 35/50, Loss: 0.2226\n",
      "Epoch: 35/50, Test Acc.: 70.82%\n",
      "Epoch: 36/50, Loss: 0.3956\n",
      "Epoch: 36/50, Test Acc.: 70.52%\n",
      "Epoch: 37/50, Loss: 0.2697\n",
      "Epoch: 37/50, Test Acc.: 69.32%\n",
      "Epoch: 38/50, Loss: 0.1731\n",
      "Epoch: 38/50, Test Acc.: 67.77%\n",
      "Epoch: 39/50, Loss: 0.2149\n",
      "Epoch: 39/50, Test Acc.: 69.41%\n",
      "Epoch: 40/50, Loss: 0.2795\n",
      "Epoch: 40/50, Test Acc.: 68.92%\n",
      "Epoch: 41/50, Loss: 0.3989\n",
      "Epoch: 41/50, Test Acc.: 68.88%\n",
      "Epoch: 42/50, Loss: 0.2769\n",
      "Epoch: 42/50, Test Acc.: 67.20%\n",
      "Epoch: 43/50, Loss: 0.2542\n",
      "Epoch: 43/50, Test Acc.: 66.63%\n",
      "Epoch: 44/50, Loss: 0.2289\n",
      "Epoch: 44/50, Test Acc.: 70.14%\n",
      "Epoch: 45/50, Loss: 0.1638\n",
      "Epoch: 45/50, Test Acc.: 68.51%\n",
      "Epoch: 46/50, Loss: 0.2379\n",
      "Epoch: 46/50, Test Acc.: 69.63%\n",
      "Epoch: 47/50, Loss: 0.2642\n",
      "Epoch: 47/50, Test Acc.: 65.58%\n",
      "Epoch: 48/50, Loss: 0.2539\n",
      "Epoch: 48/50, Test Acc.: 68.71%\n",
      "Epoch: 49/50, Loss: 0.3061\n",
      "Epoch: 49/50, Test Acc.: 69.19%\n",
      "Epoch: 50/50, Loss: 0.1606\n",
      "Epoch: 50/50, Test Acc.: 70.85%\n"
     ]
    }
   ],
   "source": [
    "losses_bn, accuracies_bn = util.train_loop(model=cnn_bn,\n",
    "                                           loss_fn=cross_entropy,\n",
    "                                           optimizer=adam,\n",
    "                                           train_loader=train_loader,\n",
    "                                           test_loader=test_loader,\n",
    "                                           epochs=num_epochs,\n",
    "                                           verbose=1)"
   ]
  },
  {
   "cell_type": "code",
   "execution_count": 18,
   "id": "fe1cb92a",
   "metadata": {
    "scrolled": false
   },
   "outputs": [
    {
     "data": {
      "image/png": "[encoded data removed]",
      "text/plain": [
       "<Figure size 720x432 with 2 Axes>"
      ]
     },
     "metadata": {
      "needs_background": "light"
     },
     "output_type": "display_data"
    }
   ],
   "source": [
    "util.plot_loss(losses_bn, accuracies_bn)"
   ]
  },
  {
   "cell_type": "markdown",
   "id": "6edf0660",
   "metadata": {},
   "source": [
    "As we can see, while using batch normalization the accuracy peaks at slightly higher values than without it.<br>\n",
    "However, both loss and accuracy are significantly more unstable, making it's use for generalization questionable."
   ]
  }
 ],
 "metadata": {
  "kernelspec": {
   "display_name": "Python 3 (ipykernel)",
   "language": "python",
   "name": "python3"
  },
  "language_info": {
   "codemirror_mode": {
    "name": "ipython",
    "version": 3
   },
   "file_extension": ".py",
   "mimetype": "text/x-python",
   "name": "python",
   "nbconvert_exporter": "python",
   "pygments_lexer": "ipython3",
   "version": "3.8.10"
  }
 },
 "nbformat": 4,
 "nbformat_minor": 5
}
