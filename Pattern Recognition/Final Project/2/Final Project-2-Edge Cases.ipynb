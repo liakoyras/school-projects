{
 "cells": [
  {
   "cell_type": "markdown",
   "id": "ead1cb90",
   "metadata": {},
   "source": [
    "# Mask Use Detection - Edge Cases"
   ]
  },
  {
   "cell_type": "code",
   "execution_count": 1,
   "id": "a08ea0f2",
   "metadata": {},
   "outputs": [],
   "source": [
    "import numpy as np\n",
    "import pandas as pd\n",
    "import matplotlib.pyplot as plt\n",
    "\n",
    "from skimage.io import imread, imshow\n",
    "\n",
    "from sklearn.preprocessing import StandardScaler\n",
    "\n",
    "from sklearn.neural_network import MLPClassifier\n",
    "from sklearn.svm import SVC\n",
    "from sklearn.ensemble import RandomForestClassifier, StackingClassifier\n",
    "from xgboost import XGBClassifier\n",
    "\n",
    "from sklearn.metrics import accuracy_score\n",
    "\n",
    "import data_utils\n",
    "import ml_utils as ml\n",
    "\n",
    "import warnings\n",
    "from sklearn.exceptions import ConvergenceWarning\n",
    "warnings.filterwarnings(action='ignore', category=ConvergenceWarning)\n",
    "warnings.simplefilter(action='ignore', category=UserWarning)\n",
    "\n",
    "pd.set_option('display.max_colwidth', 2000)"
   ]
  },
  {
   "cell_type": "markdown",
   "id": "5e934998",
   "metadata": {},
   "source": [
    "## Preparing Data"
   ]
  },
  {
   "cell_type": "code",
   "execution_count": 2,
   "id": "9b56c34a",
   "metadata": {},
   "outputs": [],
   "source": [
    "data_path = \"data/Mask_DB/\""
   ]
  },
  {
   "cell_type": "markdown",
   "id": "4a24406c",
   "metadata": {},
   "source": [
    "We will recreate the model that achieved the best results and then test it on images of the class \"mask_incorrect_use\" that contains images where a mask is present but is not used properly."
   ]
  },
  {
   "cell_type": "markdown",
   "id": "e7359bde",
   "metadata": {},
   "source": [
    "### Importing training data"
   ]
  },
  {
   "cell_type": "code",
   "execution_count": 3,
   "id": "c5013f53",
   "metadata": {},
   "outputs": [],
   "source": [
    "rgb_generator = data_utils.read_images(data_path, class_ignore=['mask_incorrect_use'])\n",
    "data_hog = data_utils.extract_features(rgb_generator, 'hog')\n",
    "data_hog = data_hog.rename(columns={data_hog.columns[-1]: \"class\"})"
   ]
  },
  {
   "cell_type": "code",
   "execution_count": 4,
   "id": "b0c928b1",
   "metadata": {},
   "outputs": [],
   "source": [
    "data_hog = data_utils.train_test_val_split(data_hog, 0.6, 0.2)\n",
    "X_train = data_hog[0][data_hog[0].columns[:-1]]\n",
    "y_train = data_hog[0]['class']\n",
    "\n",
    "X_val = data_hog[1][data_hog[0].columns[:-1]]\n",
    "y_val = data_hog[1]['class']\n",
    "\n",
    "X_test = data_hog[2][data_hog[0].columns[:-1]]\n",
    "y_test = data_hog[2]['class']"
   ]
  },
  {
   "cell_type": "markdown",
   "id": "9a5234e8",
   "metadata": {},
   "source": [
    "### Importing incorrect mask use data"
   ]
  },
  {
   "cell_type": "code",
   "execution_count": 5,
   "id": "e8f268f2",
   "metadata": {
    "scrolled": false
   },
   "outputs": [],
   "source": [
    "rgb_generator = data_utils.read_images(data_path, class_ignore=['with_mask', 'without_mask'])\n",
    "data_hog = data_utils.extract_features(rgb_generator, 'hog')\n",
    "data_hog = data_hog.drop(data_hog.columns[-1], axis='columns')"
   ]
  },
  {
   "cell_type": "code",
   "execution_count": 6,
   "id": "903a8374",
   "metadata": {},
   "outputs": [],
   "source": [
    "X_test_inc = data_hog\n",
    "y_test_inc = pd.Series(np.ones((X_test_inc.shape[0],)))"
   ]
  },
  {
   "cell_type": "markdown",
   "id": "c7878f99",
   "metadata": {},
   "source": [
    "### Feature Scaling"
   ]
  },
  {
   "cell_type": "code",
   "execution_count": 7,
   "id": "105ac004",
   "metadata": {},
   "outputs": [],
   "source": [
    "scaler = StandardScaler()\n",
    "scaler.fit(X_train)\n",
    "\n",
    "X_train = pd.DataFrame(scaler.transform(X_train))\n",
    "X_val = pd.DataFrame(scaler.transform(X_val))\n",
    "X_test = pd.DataFrame(scaler.transform(X_test))\n",
    "X_test_inc = pd.DataFrame(scaler.transform(X_test_inc))"
   ]
  },
  {
   "cell_type": "markdown",
   "id": "967049c1",
   "metadata": {},
   "source": [
    "### Dimensionality Reduction"
   ]
  },
  {
   "cell_type": "code",
   "execution_count": 8,
   "id": "5fca0cbd",
   "metadata": {},
   "outputs": [],
   "source": [
    "reducer, reduced = ml.reduce_dimensions(X_train, y_train, 'pca', 27, [X_train, X_val, X_test, X_test_inc])\n",
    "X_train, X_val, X_test, X_test_inc = reduced"
   ]
  },
  {
   "cell_type": "markdown",
   "id": "1ca7a1fe",
   "metadata": {},
   "source": [
    "## Model Training"
   ]
  },
  {
   "cell_type": "code",
   "execution_count": 9,
   "id": "85d39eb2",
   "metadata": {
    "scrolled": false
   },
   "outputs": [
    {
     "data": {
      "text/html": [
       "<style>#sk-container-id-1 {color: black;background-color: white;}#sk-container-id-1 pre{padding: 0;}#sk-container-id-1 div.sk-toggleable {background-color: white;}#sk-container-id-1 label.sk-toggleable__label {cursor: pointer;display: block;width: 100%;margin-bottom: 0;padding: 0.3em;box-sizing: border-box;text-align: center;}#sk-container-id-1 label.sk-toggleable__label-arrow:before {content: \"▸\";float: left;margin-right: 0.25em;color: #696969;}#sk-container-id-1 label.sk-toggleable__label-arrow:hover:before {color: black;}#sk-container-id-1 div.sk-estimator:hover label.sk-toggleable__label-arrow:before {color: black;}#sk-container-id-1 div.sk-toggleable__content {max-height: 0;max-width: 0;overflow: hidden;text-align: left;background-color: #f0f8ff;}#sk-container-id-1 div.sk-toggleable__content pre {margin: 0.2em;color: black;border-radius: 0.25em;background-color: #f0f8ff;}#sk-container-id-1 input.sk-toggleable__control:checked~div.sk-toggleable__content {max-height: 200px;max-width: 100%;overflow: auto;}#sk-container-id-1 input.sk-toggleable__control:checked~label.sk-toggleable__label-arrow:before {content: \"▾\";}#sk-container-id-1 div.sk-estimator input.sk-toggleable__control:checked~label.sk-toggleable__label {background-color: #d4ebff;}#sk-container-id-1 div.sk-label input.sk-toggleable__control:checked~label.sk-toggleable__label {background-color: #d4ebff;}#sk-container-id-1 input.sk-hidden--visually {border: 0;clip: rect(1px 1px 1px 1px);clip: rect(1px, 1px, 1px, 1px);height: 1px;margin: -1px;overflow: hidden;padding: 0;position: absolute;width: 1px;}#sk-container-id-1 div.sk-estimator {font-family: monospace;background-color: #f0f8ff;border: 1px dotted black;border-radius: 0.25em;box-sizing: border-box;margin-bottom: 0.5em;}#sk-container-id-1 div.sk-estimator:hover {background-color: #d4ebff;}#sk-container-id-1 div.sk-parallel-item::after {content: \"\";width: 100%;border-bottom: 1px solid gray;flex-grow: 1;}#sk-container-id-1 div.sk-label:hover label.sk-toggleable__label {background-color: #d4ebff;}#sk-container-id-1 div.sk-serial::before {content: \"\";position: absolute;border-left: 1px solid gray;box-sizing: border-box;top: 0;bottom: 0;left: 50%;z-index: 0;}#sk-container-id-1 div.sk-serial {display: flex;flex-direction: column;align-items: center;background-color: white;padding-right: 0.2em;padding-left: 0.2em;position: relative;}#sk-container-id-1 div.sk-item {position: relative;z-index: 1;}#sk-container-id-1 div.sk-parallel {display: flex;align-items: stretch;justify-content: center;background-color: white;position: relative;}#sk-container-id-1 div.sk-item::before, #sk-container-id-1 div.sk-parallel-item::before {content: \"\";position: absolute;border-left: 1px solid gray;box-sizing: border-box;top: 0;bottom: 0;left: 50%;z-index: -1;}#sk-container-id-1 div.sk-parallel-item {display: flex;flex-direction: column;z-index: 1;position: relative;background-color: white;}#sk-container-id-1 div.sk-parallel-item:first-child::after {align-self: flex-end;width: 50%;}#sk-container-id-1 div.sk-parallel-item:last-child::after {align-self: flex-start;width: 50%;}#sk-container-id-1 div.sk-parallel-item:only-child::after {width: 0;}#sk-container-id-1 div.sk-dashed-wrapped {border: 1px dashed gray;margin: 0 0.4em 0.5em 0.4em;box-sizing: border-box;padding-bottom: 0.4em;background-color: white;}#sk-container-id-1 div.sk-label label {font-family: monospace;font-weight: bold;display: inline-block;line-height: 1.2em;}#sk-container-id-1 div.sk-label-container {text-align: center;}#sk-container-id-1 div.sk-container {/* jupyter's `normalize.less` sets `[hidden] { display: none; }` but bootstrap.min.css set `[hidden] { display: none !important; }` so we also need the `!important` here to be able to override the default hidden behavior on the sphinx rendered scikit-learn.org. See: https://github.com/scikit-learn/scikit-learn/issues/21755 */display: inline-block !important;position: relative;}#sk-container-id-1 div.sk-text-repr-fallback {display: none;}</style><div id=\"sk-container-id-1\" class=\"sk-top-container\"><div class=\"sk-text-repr-fallback\"><pre>StackingClassifier(estimators=[(&#x27;mlp&#x27;,\n",
       "                                MLPClassifier(activation=&#x27;tanh&#x27;, alpha=0.5,\n",
       "                                              hidden_layer_sizes=(32,),\n",
       "                                              learning_rate_init=0.01,\n",
       "                                              max_iter=1000, random_state=42)),\n",
       "                               (&#x27;svm&#x27;,\n",
       "                                SVC(C=1000, gamma=0.01, probability=True,\n",
       "                                    random_state=42)),\n",
       "                               (&#x27;xgb&#x27;,\n",
       "                                XGBClassifier(base_score=None, booster=None,\n",
       "                                              callbacks=None,\n",
       "                                              colsample_bylevel=None,\n",
       "                                              colsample_bynode=None,\n",
       "                                              colsample_bytre...\n",
       "                                              max_delta_step=None, max_depth=8,\n",
       "                                              max_leaves=None,\n",
       "                                              min_child_weight=None,\n",
       "                                              missing=nan,\n",
       "                                              monotone_constraints=None,\n",
       "                                              n_estimators=1000, n_jobs=-1,\n",
       "                                              num_parallel_tree=None,\n",
       "                                              predictor=None, random_state=42, ...)),\n",
       "                               (&#x27;rf &#x27;,\n",
       "                                RandomForestClassifier(min_samples_leaf=2,\n",
       "                                                       random_state=42))],\n",
       "                   final_estimator=SVC(C=1000, gamma=0.01, probability=True,\n",
       "                                       random_state=42),\n",
       "                   passthrough=True)</pre><b>In a Jupyter environment, please rerun this cell to show the HTML representation or trust the notebook. <br />On GitHub, the HTML representation is unable to render, please try loading this page with nbviewer.org.</b></div><div class=\"sk-container\" hidden><div class=\"sk-item sk-dashed-wrapped\"><div class=\"sk-label-container\"><div class=\"sk-label sk-toggleable\"><input class=\"sk-toggleable__control sk-hidden--visually\" id=\"sk-estimator-id-1\" type=\"checkbox\" ><label for=\"sk-estimator-id-1\" class=\"sk-toggleable__label sk-toggleable__label-arrow\">StackingClassifier</label><div class=\"sk-toggleable__content\"><pre>StackingClassifier(estimators=[(&#x27;mlp&#x27;,\n",
       "                                MLPClassifier(activation=&#x27;tanh&#x27;, alpha=0.5,\n",
       "                                              hidden_layer_sizes=(32,),\n",
       "                                              learning_rate_init=0.01,\n",
       "                                              max_iter=1000, random_state=42)),\n",
       "                               (&#x27;svm&#x27;,\n",
       "                                SVC(C=1000, gamma=0.01, probability=True,\n",
       "                                    random_state=42)),\n",
       "                               (&#x27;xgb&#x27;,\n",
       "                                XGBClassifier(base_score=None, booster=None,\n",
       "                                              callbacks=None,\n",
       "                                              colsample_bylevel=None,\n",
       "                                              colsample_bynode=None,\n",
       "                                              colsample_bytre...\n",
       "                                              max_delta_step=None, max_depth=8,\n",
       "                                              max_leaves=None,\n",
       "                                              min_child_weight=None,\n",
       "                                              missing=nan,\n",
       "                                              monotone_constraints=None,\n",
       "                                              n_estimators=1000, n_jobs=-1,\n",
       "                                              num_parallel_tree=None,\n",
       "                                              predictor=None, random_state=42, ...)),\n",
       "                               (&#x27;rf &#x27;,\n",
       "                                RandomForestClassifier(min_samples_leaf=2,\n",
       "                                                       random_state=42))],\n",
       "                   final_estimator=SVC(C=1000, gamma=0.01, probability=True,\n",
       "                                       random_state=42),\n",
       "                   passthrough=True)</pre></div></div></div><div class=\"sk-serial\"><div class=\"sk-item\"><div class=\"sk-parallel\"><div class=\"sk-parallel-item\"><div class=\"sk-item\"><div class=\"sk-label-container\"><div class=\"sk-label sk-toggleable\"><label>mlp</label></div></div><div class=\"sk-serial\"><div class=\"sk-item\"><div class=\"sk-estimator sk-toggleable\"><input class=\"sk-toggleable__control sk-hidden--visually\" id=\"sk-estimator-id-2\" type=\"checkbox\" ><label for=\"sk-estimator-id-2\" class=\"sk-toggleable__label sk-toggleable__label-arrow\">MLPClassifier</label><div class=\"sk-toggleable__content\"><pre>MLPClassifier(activation=&#x27;tanh&#x27;, alpha=0.5, hidden_layer_sizes=(32,),\n",
       "              learning_rate_init=0.01, max_iter=1000, random_state=42)</pre></div></div></div></div></div></div><div class=\"sk-parallel-item\"><div class=\"sk-item\"><div class=\"sk-label-container\"><div class=\"sk-label sk-toggleable\"><label>svm</label></div></div><div class=\"sk-serial\"><div class=\"sk-item\"><div class=\"sk-estimator sk-toggleable\"><input class=\"sk-toggleable__control sk-hidden--visually\" id=\"sk-estimator-id-3\" type=\"checkbox\" ><label for=\"sk-estimator-id-3\" class=\"sk-toggleable__label sk-toggleable__label-arrow\">SVC</label><div class=\"sk-toggleable__content\"><pre>SVC(C=1000, gamma=0.01, probability=True, random_state=42)</pre></div></div></div></div></div></div><div class=\"sk-parallel-item\"><div class=\"sk-item\"><div class=\"sk-label-container\"><div class=\"sk-label sk-toggleable\"><label>xgb</label></div></div><div class=\"sk-serial\"><div class=\"sk-item\"><div class=\"sk-estimator sk-toggleable\"><input class=\"sk-toggleable__control sk-hidden--visually\" id=\"sk-estimator-id-4\" type=\"checkbox\" ><label for=\"sk-estimator-id-4\" class=\"sk-toggleable__label sk-toggleable__label-arrow\">XGBClassifier</label><div class=\"sk-toggleable__content\"><pre>XGBClassifier(base_score=None, booster=None, callbacks=None,\n",
       "              colsample_bylevel=None, colsample_bynode=None,\n",
       "              colsample_bytree=None, early_stopping_rounds=None,\n",
       "              enable_categorical=False, eval_metric=None, feature_types=None,\n",
       "              gamma=None, gpu_id=None, grow_policy=None, importance_type=None,\n",
       "              interaction_constraints=None, learning_rate=0.01, max_bin=None,\n",
       "              max_cat_threshold=None, max_cat_to_onehot=None,\n",
       "              max_delta_step=None, max_depth=8, max_leaves=None,\n",
       "              min_child_weight=None, missing=nan, monotone_constraints=None,\n",
       "              n_estimators=1000, n_jobs=-1, num_parallel_tree=None,\n",
       "              predictor=None, random_state=42, ...)</pre></div></div></div></div></div></div><div class=\"sk-parallel-item\"><div class=\"sk-item\"><div class=\"sk-label-container\"><div class=\"sk-label sk-toggleable\"><label>rf </label></div></div><div class=\"sk-serial\"><div class=\"sk-item\"><div class=\"sk-estimator sk-toggleable\"><input class=\"sk-toggleable__control sk-hidden--visually\" id=\"sk-estimator-id-5\" type=\"checkbox\" ><label for=\"sk-estimator-id-5\" class=\"sk-toggleable__label sk-toggleable__label-arrow\">RandomForestClassifier</label><div class=\"sk-toggleable__content\"><pre>RandomForestClassifier(min_samples_leaf=2, random_state=42)</pre></div></div></div></div></div></div></div></div><div class=\"sk-item\"><div class=\"sk-parallel\"><div class=\"sk-parallel-item\"><div class=\"sk-item\"><div class=\"sk-label-container\"><div class=\"sk-label sk-toggleable\"><label>final_estimator</label></div></div><div class=\"sk-serial\"><div class=\"sk-item\"><div class=\"sk-estimator sk-toggleable\"><input class=\"sk-toggleable__control sk-hidden--visually\" id=\"sk-estimator-id-6\" type=\"checkbox\" ><label for=\"sk-estimator-id-6\" class=\"sk-toggleable__label sk-toggleable__label-arrow\">SVC</label><div class=\"sk-toggleable__content\"><pre>SVC(C=1000, gamma=0.01, probability=True, random_state=42)</pre></div></div></div></div></div></div></div></div></div></div></div></div>"
      ],
      "text/plain": [
       "StackingClassifier(estimators=[('mlp',\n",
       "                                MLPClassifier(activation='tanh', alpha=0.5,\n",
       "                                              hidden_layer_sizes=(32,),\n",
       "                                              learning_rate_init=0.01,\n",
       "                                              max_iter=1000, random_state=42)),\n",
       "                               ('svm',\n",
       "                                SVC(C=1000, gamma=0.01, probability=True,\n",
       "                                    random_state=42)),\n",
       "                               ('xgb',\n",
       "                                XGBClassifier(base_score=None, booster=None,\n",
       "                                              callbacks=None,\n",
       "                                              colsample_bylevel=None,\n",
       "                                              colsample_bynode=None,\n",
       "                                              colsample_bytre...\n",
       "                                              max_delta_step=None, max_depth=8,\n",
       "                                              max_leaves=None,\n",
       "                                              min_child_weight=None,\n",
       "                                              missing=nan,\n",
       "                                              monotone_constraints=None,\n",
       "                                              n_estimators=1000, n_jobs=-1,\n",
       "                                              num_parallel_tree=None,\n",
       "                                              predictor=None, random_state=42, ...)),\n",
       "                               ('rf ',\n",
       "                                RandomForestClassifier(min_samples_leaf=2,\n",
       "                                                       random_state=42))],\n",
       "                   final_estimator=SVC(C=1000, gamma=0.01, probability=True,\n",
       "                                       random_state=42),\n",
       "                   passthrough=True)"
      ]
     },
     "execution_count": 9,
     "metadata": {},
     "output_type": "execute_result"
    }
   ],
   "source": [
    "svm = SVC(kernel='rbf', C=1000, gamma=0.01, probability=True, random_state=42)\n",
    "mlp = MLPClassifier(hidden_layer_sizes=(32,), activation='tanh', alpha=0.5, learning_rate_init=0.01, max_iter=1000, random_state=42)\n",
    "xgb = XGBClassifier(n_estimators=1000, max_depth=8, learning_rate=0.01, subsample=0.5, random_state=42, n_jobs=-1)\n",
    "rf  = RandomForestClassifier(n_estimators=100, min_samples_leaf=2, random_state=42)\n",
    "\n",
    "level_0 = [\n",
    "    ('mlp', mlp),\n",
    "    ('svm', svm),\n",
    "    ('xgb', xgb),\n",
    "    ('rf ' , rf)\n",
    "]\n",
    "\n",
    "stacking = StackingClassifier(estimators=level_0, final_estimator=svm, passthrough=True)\n",
    "stacking.fit(X_train, y_train)"
   ]
  },
  {
   "cell_type": "markdown",
   "id": "11a581fe",
   "metadata": {},
   "source": [
    "## Testing"
   ]
  },
  {
   "cell_type": "code",
   "execution_count": 10,
   "id": "0601d599",
   "metadata": {},
   "outputs": [],
   "source": [
    "y_pred = stacking.predict(X_test_inc)"
   ]
  },
  {
   "cell_type": "code",
   "execution_count": 11,
   "id": "7388b0eb",
   "metadata": {
    "scrolled": true
   },
   "outputs": [
    {
     "name": "stdout",
     "output_type": "stream",
     "text": [
      "Images classified correctly: 11\n",
      "Accuracy: 0.19642857142857142\n"
     ]
    }
   ],
   "source": [
    "print(\"Images classified correctly:\", (y_pred == y_test_inc).sum())\n",
    "print(\"Accuracy:\", accuracy_score(y_test_inc, y_pred))"
   ]
  },
  {
   "cell_type": "markdown",
   "id": "955a10bf",
   "metadata": {},
   "source": [
    "The accuracy seems to be very low. This possibly happened because masks were not present in the entirety of the \"without_mask\" class, and the algorithms learned to strongly corelate this feature with the class."
   ]
  },
  {
   "cell_type": "markdown",
   "id": "64fdccc4",
   "metadata": {},
   "source": [
    "## Improving"
   ]
  },
  {
   "cell_type": "markdown",
   "id": "b3da170d",
   "metadata": {},
   "source": [
    "### Classification threshold"
   ]
  },
  {
   "cell_type": "markdown",
   "id": "41b04c2d",
   "metadata": {},
   "source": [
    "The mean probabilities predicted about samples in each class are:"
   ]
  },
  {
   "cell_type": "code",
   "execution_count": 12,
   "id": "54051f3d",
   "metadata": {},
   "outputs": [
    {
     "name": "stdout",
     "output_type": "stream",
     "text": [
      "For with_mask: 0.948\n",
      "For without_mask: 0.9343\n"
     ]
    }
   ],
   "source": [
    "print(\"For with_mask:\", round(np.mean(stacking.predict_proba(X_val[~y_val.astype('bool')])[:,0]), 4))\n",
    "print(\"For without_mask:\", round(np.mean(stacking.predict_proba(X_val[y_val.astype('bool')])[:,1]), 4))"
   ]
  },
  {
   "cell_type": "markdown",
   "id": "467a1ac3",
   "metadata": {},
   "source": [
    "This means that the model is quite confident about images from the two categories it was trained on.<br>\n",
    "On the other hand:"
   ]
  },
  {
   "cell_type": "code",
   "execution_count": 13,
   "id": "e992a628",
   "metadata": {},
   "outputs": [
    {
     "name": "stdout",
     "output_type": "stream",
     "text": [
      "For mask_incorrect_use: 0.2541\n"
     ]
    }
   ],
   "source": [
    "print(\"For mask_incorrect_use:\", round(np.mean(stacking.predict_proba(X_test_inc)[:,1]), 4))"
   ]
  },
  {
   "cell_type": "markdown",
   "id": "2ff3a0b7",
   "metadata": {},
   "source": [
    "So, it is not confident at all about images which belong to this category."
   ]
  },
  {
   "cell_type": "markdown",
   "id": "3438e026",
   "metadata": {},
   "source": [
    "By reducing the classification threshold, more of the misclassified edge cases will be classified correctly."
   ]
  },
  {
   "cell_type": "code",
   "execution_count": 14,
   "id": "2232acdb",
   "metadata": {
    "scrolled": true
   },
   "outputs": [],
   "source": [
    "thresholds = list(np.linspace(0.5, 0, 201))\n",
    "val_accuracies = []\n",
    "for threshold in thresholds:\n",
    "    val_pred = ml.classifier_threshold(stacking, X_val, threshold)\n",
    "    val_accuracy = accuracy_score(y_val, val_pred)\n",
    "    val_accuracies.append(val_accuracy)"
   ]
  },
  {
   "cell_type": "code",
   "execution_count": 15,
   "id": "897c5852",
   "metadata": {},
   "outputs": [
    {
     "data": {
      "image/png": "[encoded data removed]",
      "text/plain": [
       "<Figure size 864x432 with 1 Axes>"
      ]
     },
     "metadata": {
      "needs_background": "light"
     },
     "output_type": "display_data"
    }
   ],
   "source": [
    "fig, ax = plt.subplots(figsize=(12,6))\n",
    "ax.plot(thresholds, val_accuracies)\n",
    "ax.set_xlabel(\"Classification Threshold\")\n",
    "ax.set_ylabel(\"Accuracy\")\n",
    "plt.show()"
   ]
  },
  {
   "cell_type": "markdown",
   "id": "2d48d89c",
   "metadata": {},
   "source": [
    "We can see that when the threshod becomes less than 0.25, the validation accuracy starts dropping consistently. For this threshold, the validation accuracy drops only about 0.5% as shown below:"
   ]
  },
  {
   "cell_type": "code",
   "execution_count": 16,
   "id": "f8410a09",
   "metadata": {},
   "outputs": [
    {
     "name": "stdout",
     "output_type": "stream",
     "text": [
      "Validation Accuracy: 0.9665071770334929\n"
     ]
    }
   ],
   "source": [
    "val_pred = ml.classifier_threshold(stacking, X_val, threshold=0.25)\n",
    "print(\"Validation Accuracy:\", accuracy_score(y_val, val_pred))"
   ]
  },
  {
   "cell_type": "markdown",
   "id": "b0853189",
   "metadata": {},
   "source": [
    "So, we can now see the results on both the edge cases and the original test set."
   ]
  },
  {
   "cell_type": "code",
   "execution_count": 17,
   "id": "1c6de736",
   "metadata": {
    "scrolled": true
   },
   "outputs": [
    {
     "name": "stdout",
     "output_type": "stream",
     "text": [
      "Mask Incorrect Use Accuracy: 0.375\n"
     ]
    }
   ],
   "source": [
    "inc_pred = ml.classifier_threshold(stacking, X_test_inc, threshold=0.25)\n",
    "print(\"Mask Incorrect Use Accuracy:\", accuracy_score(y_test_inc, inc_pred))"
   ]
  },
  {
   "cell_type": "code",
   "execution_count": 18,
   "id": "e8eb9fdb",
   "metadata": {
    "scrolled": true
   },
   "outputs": [
    {
     "name": "stdout",
     "output_type": "stream",
     "text": [
      "Test Accuracy: 0.9497607655502392\n"
     ]
    }
   ],
   "source": [
    "test_pred = ml.classifier_threshold(stacking, X_test, threshold=0.25)\n",
    "print(\"Test Accuracy:\", accuracy_score(y_test, test_pred))"
   ]
  },
  {
   "cell_type": "markdown",
   "id": "18310625",
   "metadata": {},
   "source": [
    "By changing the classification threshold, we almost doubled the accuracy on the edge cases, with only a 0.7% drop in overall test accuracy.<br>\n",
    "In any practical application, we would need to judge how important are the edge cases in order to justify more false negatives (samples that do not wear a mask and yet were classified as if they were wearing one)."
   ]
  }
 ],
 "metadata": {
  "kernelspec": {
   "display_name": "Python 3 (ipykernel)",
   "language": "python",
   "name": "python3"
  },
  "language_info": {
   "codemirror_mode": {
    "name": "ipython",
    "version": 3
   },
   "file_extension": ".py",
   "mimetype": "text/x-python",
   "name": "python",
   "nbconvert_exporter": "python",
   "pygments_lexer": "ipython3",
   "version": "3.8.10"
  }
 },
 "nbformat": 4,
 "nbformat_minor": 5
}
