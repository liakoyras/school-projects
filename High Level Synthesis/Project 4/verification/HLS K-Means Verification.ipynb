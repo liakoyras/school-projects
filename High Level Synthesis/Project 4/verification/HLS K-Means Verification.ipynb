{
 "cells": [
  {
   "cell_type": "code",
   "execution_count": 1,
   "id": "e8c7a124",
   "metadata": {},
   "outputs": [],
   "source": [
    "import numpy as np\n",
    "import pandas as pd\n",
    "import matplotlib.pyplot as plt\n",
    "\n",
    "from scipy.spatial import distance\n",
    "\n",
    "from pyclustering.cluster.kmeans import kmeans\n",
    "from pyclustering.utils.metric import type_metric, distance_metric"
   ]
  },
  {
   "cell_type": "code",
   "execution_count": 2,
   "id": "8bdd547c",
   "metadata": {},
   "outputs": [],
   "source": [
    "def manhattan_distance(x, y):\n",
    "    return distance.cityblock(x, y)"
   ]
  },
  {
   "cell_type": "code",
   "execution_count": 3,
   "id": "6700fb15",
   "metadata": {},
   "outputs": [],
   "source": [
    "metric = distance_metric(type_metric.USER_DEFINED, func=manhattan_distance)"
   ]
  },
  {
   "cell_type": "code",
   "execution_count": 4,
   "id": "ed18b364",
   "metadata": {},
   "outputs": [],
   "source": [
    "data = pd.read_csv('sample_data.txt', delimiter=' ', index_col=False, header=None)"
   ]
  },
  {
   "cell_type": "code",
   "execution_count": 5,
   "id": "16f1ca59",
   "metadata": {},
   "outputs": [],
   "source": [
    "rng = np.random.default_rng()\n",
    "init_centroids = np.array([[41346, 42352], [19819, 6973], [7205, 19142]])"
   ]
  },
  {
   "cell_type": "code",
   "execution_count": 6,
   "id": "5441509c",
   "metadata": {},
   "outputs": [],
   "source": [
    "model = kmeans(data.to_numpy(), init_centroids, metric=metric)\n",
    "model.process()\n",
    "centers = np.array(model.get_centers())"
   ]
  },
  {
   "cell_type": "code",
   "execution_count": 7,
   "id": "71e5b49c",
   "metadata": {},
   "outputs": [
    {
     "data": {
      "text/plain": [
       "array([[51534.28571429, 51292.60714286],\n",
       "       [45481.02564103, 16280.1025641 ],\n",
       "       [11621.06060606, 39335.81818182]])"
      ]
     },
     "execution_count": 7,
     "metadata": {},
     "output_type": "execute_result"
    }
   ],
   "source": [
    "centers"
   ]
  },
  {
   "cell_type": "code",
   "execution_count": 8,
   "id": "97ed7258",
   "metadata": {
    "scrolled": false
   },
   "outputs": [
    {
     "data": {
      "image/png": "[encoded data removed]",
      "text/plain": [
       "<Figure size 648x576 with 1 Axes>"
      ]
     },
     "metadata": {
      "needs_background": "light"
     },
     "output_type": "display_data"
    }
   ],
   "source": [
    "fig, ax = plt.subplots(figsize=(9, 8))\n",
    "ax.scatter(data[0], data[1])\n",
    "ax.scatter(centers[:,0], centers[:,1])\n",
    "plt.show()"
   ]
  }
 ],
 "metadata": {
  "kernelspec": {
   "display_name": "Python 3 (ipykernel)",
   "language": "python",
   "name": "python3"
  },
  "language_info": {
   "codemirror_mode": {
    "name": "ipython",
    "version": 3
   },
   "file_extension": ".py",
   "mimetype": "text/x-python",
   "name": "python",
   "nbconvert_exporter": "python",
   "pygments_lexer": "ipython3",
   "version": "3.8.10"
  }
 },
 "nbformat": 4,
 "nbformat_minor": 5
}
